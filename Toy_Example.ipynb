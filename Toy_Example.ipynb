{
 "cells": [
  {
   "cell_type": "code",
   "execution_count": 163,
   "id": "2be91c78",
   "metadata": {},
   "outputs": [],
   "source": [
    "import numpy as np\n",
    "import cvxpy as cp"
   ]
  },
  {
   "cell_type": "code",
   "execution_count": 157,
   "id": "587f967c-a010-4133-9f6a-b97590633ab2",
   "metadata": {},
   "outputs": [],
   "source": [
    "def poly_cvar_ball(p,alpha,x,f,r):   #### Function for Calculating Robust CVaR with Polynomial Divergence\n",
    "    n = len(x)\n",
    "    theta_1 = cp.Variable(1)\n",
    "    theta_2 = cp.Variable(1)\n",
    "    lbda = cp.Variable(1, nonneg = True)\n",
    "    t = cp.Variable(n)\n",
    "    z = cp.Variable(n, nonneg= True)\n",
    "    s = cp.Variable(n)\n",
    "    constraints = [lbda-s*(1-p) <= z, theta_1 + cp.pos((1 / alpha) * (theta_2 - x)) <= s]\n",
    "    macht = np.array([(p-1)/p, 1-(p-1)/p])\n",
    "    for i in range(n):\n",
    "        constraints.append(z[i] <= cp.geo_mean(cp.vstack([lbda+p*t[i],lbda]),macht)) \n",
    "    obj = cp.Minimize(-theta_1-theta_2+lbda*r+t@f)\n",
    "    prob = cp.Problem(obj,constraints)\n",
    "    prob.solve(solver = cp.MOSEK)\n",
    "    return(prob.value, theta_1.value, theta_2.value, lbda.value)\n",
    "\n",
    "\n",
    "def poly_cvar_ball_IS(p, alpha, x, f, r):   #### With importance sampling\n",
    "    n = len(x)\n",
    "    theta_1 = cp.Variable(1)\n",
    "    theta_2 = cp.Variable(1)\n",
    "    lbda = cp.Variable(1, nonneg = True)\n",
    "    t = cp.Variable(n)\n",
    "    z = cp.Variable(n, nonneg= True)\n",
    "    s = cp.Variable(n)\n",
    "    constraints = [lbda-s*(1-p) <= z, theta_1 + cp.pos((1 / alpha) * (theta_2 - x)) <= s]\n",
    "    macht = np.array([(p-1)/p, 1-(p-1)/p])\n",
    "    for i in range(n):\n",
    "        constraints.append(z[i] <= cp.geo_mean(cp.vstack([lbda+p*t[i],lbda]),macht)) \n",
    "    obj = cp.Minimize(-theta_1-theta_2+lbda*r+t@(cp.multiply(f,2/np.abs(x))))\n",
    "    prob = cp.Problem(obj,constraints)\n",
    "    prob.solve(solver = cp.MOSEK)\n",
    "    return(prob.value, theta_1.value, theta_2.value, lbda.value)\n",
    "\n",
    "def kl_cvar_ball(alpha, x, f, r):  #### Function for Calculating Robust CVaR with KL-Divergence\n",
    "    n = len(x)\n",
    "    theta_1 = cp.Variable()\n",
    "    theta_2 = cp.Variable()\n",
    "    lbda = cp.Variable(nonneg=True)\n",
    "    t = cp.Variable(n)\n",
    "    w = cp.Variable(n)\n",
    "    s = cp.Variable(n)\n",
    "    constraints = []\n",
    "    constraints.append(theta_1 + cp.pos(1 / alpha * (theta_2 - x)) <= s)\n",
    "    constraints.append(w - lbda <= t)\n",
    "    constraints.append(cp.kl_div(lbda, w) + lbda + s - w <= 0)\n",
    "    obj = cp.Minimize(-theta_1 - theta_2 + lbda * r + cp.sum(cp.multiply(t, f)))\n",
    "    prob = cp.Problem(obj, constraints)\n",
    "    prob.solve(solver=cp.MOSEK)\n",
    "    return prob.value, theta_1.value, theta_2.value, lbda.value\n",
    "\n",
    "def kl_cvar_ball_IS(alpha, x, f, r):   #### With importance sampling\n",
    "    n = len(x)\n",
    "    theta_1 = cp.Variable()\n",
    "    theta_2 = cp.Variable()\n",
    "    lbda = cp.Variable(nonneg=True)\n",
    "    t = cp.Variable(n)\n",
    "    w = cp.Variable(n)\n",
    "    s = cp.Variable(n)\n",
    "    constraints = []\n",
    "    constraints.append(theta_1 + cp.pos(1 / alpha * (theta_2 - x)) <= s)\n",
    "    constraints.append(w - lbda <= t)\n",
    "    constraints.append(cp.kl_div(lbda, w) + lbda + s - w <= 0)\n",
    "    obj = cp.Minimize(-theta_1 - theta_2 + lbda * r + cp.sum(cp.multiply(t, cp.multiply(f,2/np.abs(x)))))\n",
    "    prob = cp.Problem(obj, constraints)\n",
    "    prob.solve(solver=cp.MOSEK)\n",
    "    return prob.value, theta_1.value, theta_2.value, lbda.value"
   ]
  },
  {
   "cell_type": "code",
   "execution_count": 119,
   "id": "62aeed80-8ce4-444c-824a-1225839f61da",
   "metadata": {},
   "outputs": [
    {
     "name": "stdout",
     "output_type": "stream",
     "text": [
      "n: 500 Polynomial: 13.370730928596737 KL: 16.403631682358068\n",
      "n: 1000 Polynomial: 13.443091755450231 KL: 16.18146773548914\n",
      "n: 1500 Polynomial: 14.8809067125657 KL: 19.037343292934864\n",
      "n: 2000 Polynomial: 15.411312677457088 KL: 19.911044502456193\n",
      "n: 2500 Polynomial: 15.238795857171933 KL: 20.138910313259828\n",
      "n: 3000 Polynomial: 20.17242069501168 KL: 39.276706807879826\n",
      "n: 3500 Polynomial: 19.913979526348427 KL: 38.32994647875242\n",
      "n: 4000 Polynomial: 19.357133891206526 KL: 37.32481244564693\n",
      "n: 4500 Polynomial: 19.272346096001208 KL: 36.73109617785556\n",
      "n: 5000 Polynomial: 18.765057737382417 KL: 35.93147230035033\n",
      "n: 5500 Polynomial: 18.92678146160716 KL: 35.61177657136223\n",
      "n: 6000 Polynomial: 18.560383695897734 KL: 35.01297555792823\n"
     ]
    }
   ],
   "source": [
    "np.random.seed(1)    \n",
    "N = np.arange(500,6500,500)\n",
    "poly_r = np.zeros(len(N))\n",
    "kl_r = np.zeros(len(N))\n",
    "X = -(np.random.pareto(2,size = 6500 )+1)\n",
    "for i in range(len(N)):\n",
    "    n = N[i]\n",
    "    poly_r[i] = poly_cvar_ball(3,0.025,X[0:n],np.zeros(n)+1/n,0.02)[0]\n",
    "    kl_r[i] = kl_cvar_ball(1-0.975,X[0:n],np.zeros(n)+1/n,0.02)[0]\n",
    "    print('n:', n, 'Polynomial:',poly_r[i], 'KL:',kl_r[i])"
   ]
  },
  {
   "cell_type": "code",
   "execution_count": 159,
   "id": "d4a2c2bf-192e-41e7-a9bd-30d4dc9de247",
   "metadata": {},
   "outputs": [
    {
     "name": "stdout",
     "output_type": "stream",
     "text": [
      "n: 500 Polynomial: 24.94327481908894 KL: 74.371292292464\n",
      "n: 1000 Polynomial: 24.68987552165416 KL: 71.14868874236211\n",
      "n: 1500 Polynomial: 25.34343512063141 KL: 99.90949329539924\n",
      "n: 2000 Polynomial: 25.794405249255583 KL: 102.736962506664\n",
      "n: 2500 Polynomial: 24.69853959849035 KL: 106.56994044505761\n",
      "n: 3000 Polynomial: 25.441941292811904 KL: 713.809122621102\n",
      "n: 3500 Polynomial: 25.63285902898825 KL: 703.4376958955236\n",
      "n: 4000 Polynomial: 25.528549464363877 KL: 694.5761277424838\n",
      "n: 4500 Polynomial: 25.589023517086865 KL: 686.2830332677058\n",
      "n: 5000 Polynomial: 25.518881724907768 KL: 680.2619069612775\n",
      "n: 5500 Polynomial: 25.61230928248229 KL: 674.3447190292198\n",
      "n: 6000 Polynomial: 25.680454008268434 KL: 669.0033308984907\n"
     ]
    }
   ],
   "source": [
    "np.random.seed(1)                        #### Same experiment, but with importance sampling\n",
    "N = np.arange(500,6500,500)\n",
    "poly_r_IS = np.zeros(len(N))\n",
    "kl_r_IS = np.zeros(len(N))\n",
    "X = -(np.random.pareto(1,size = 6500)+1)\n",
    "for i in range(len(N)):\n",
    "    n = N[i]\n",
    "    poly_r_IS[i] = poly_cvar_ball_IS(3,0.025,X[0:n],np.zeros(n)+1/n,0.02)[0]\n",
    "    kl_r_IS[i] = kl_cvar_ball_IS(1-0.975,X[0:n],np.zeros(n)+1/n,0.02)[0]\n",
    "    print('n:', n, 'Polynomial:',poly_r_IS[i], 'KL:',kl_r_IS[i])"
   ]
  }
 ],
 "metadata": {
  "kernelspec": {
   "display_name": "Python [conda env:base] *",
   "language": "python",
   "name": "conda-base-py"
  },
  "language_info": {
   "codemirror_mode": {
    "name": "ipython",
    "version": 3
   },
   "file_extension": ".py",
   "mimetype": "text/x-python",
   "name": "python",
   "nbconvert_exporter": "python",
   "pygments_lexer": "ipython3",
   "version": "3.12.3"
  }
 },
 "nbformat": 4,
 "nbformat_minor": 5
}
