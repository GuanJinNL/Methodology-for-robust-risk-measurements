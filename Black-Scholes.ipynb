{
 "cells": [
  {
   "cell_type": "code",
   "execution_count": 3,
   "id": "28378993",
   "metadata": {},
   "outputs": [],
   "source": [
    "import numpy as np\n",
    "import matplotlib.pyplot as plt\n",
    "from scipy.stats import norm\n",
    "import cvxpy as cp\n",
    "import mosek"
   ]
  },
  {
   "cell_type": "code",
   "execution_count": 5,
   "id": "3b6ef976",
   "metadata": {},
   "outputs": [],
   "source": [
    "gauss_x = np.arange(-4,4,0.0001)\n",
    "gauss_y = np.zeros(len(gauss_x))\n",
    "for i in range(len(gauss_x)):\n",
    "    gauss_y[i] = norm.cdf(gauss_x[i])\n",
    "\n",
    "def gauss_cdf(x):\n",
    "    if np.abs(x) > 4:\n",
    "        return(norm.cdf(x))\n",
    "    else:\n",
    "        return np.interp(x,gauss_x,gauss_y)"
   ]
  },
  {
   "cell_type": "code",
   "execution_count": 6,
   "id": "fcfe09d7",
   "metadata": {},
   "outputs": [],
   "source": [
    "# Discrete Delta Hedging Strategy\n",
    "def delta_hedging(S, K, r,mu, sigma, T,k0,k, num_steps):\n",
    "    dt = T / num_steps\n",
    "    d1 = (np.log(S / K) + (mu + 0.5 * sigma**2) * T) / (sigma * np.sqrt(T))\n",
    "    d2 = d1 - sigma * np.sqrt(T)\n",
    "    cash = -K * np.exp(-r * T) * gauss_cdf(d2)\n",
    "\n",
    "    # Delta hedging loop\n",
    "    for i in range(1, num_steps):\n",
    "        S_new = S * np.exp((mu - 0.5 * sigma**2) * dt + sigma * np.sqrt(dt) * np.random.normal())\n",
    "        d1_new = (np.log(S_new / K) + (r + 0.5 * sigma**2) * (T-i*dt)) / (sigma * np.sqrt(T-i*dt))   \n",
    "        dd1 = (gauss_cdf(d1_new)-gauss_cdf(d1))\n",
    "        cash_new = np.exp(r*dt) * cash - S_new * (dd1 + k*np.abs(dd1)) -k0\n",
    "        S = S_new\n",
    "        d1 = d1_new\n",
    "        cash = cash_new\n",
    "    S_pos = gauss_cdf(d1) * S\n",
    "    Bond_pos = cash\n",
    "    S_new = S * np.exp((mu - 0.5 * sigma**2) * dt + sigma * np.sqrt(dt) * np.random.normal())\n",
    "    \n",
    "    \n",
    "    return(np.abs(np.maximum(S_new-K,0)-S_pos-Bond_pos))\n",
    "        "
   ]
  },
  {
   "cell_type": "code",
   "execution_count": 17,
   "id": "4859263c-85c2-43db-ba0c-8e29ec1970a8",
   "metadata": {},
   "outputs": [],
   "source": [
    "S0 = 1  # Initial stock price\n",
    "K = 1   # Strike price\n",
    "mu = 0.05  # Price drift\n",
    "r = 0.01    # risk-free rate\n",
    "sigma = 0.3  # Volatility\n",
    "T = 1.0  # Time to maturity\n",
    "k0 = 0.0002\n",
    "k = 0.005\n",
    "N = 8000\n",
    "d_steps = np.arange(20,620,20)"
   ]
  },
  {
   "cell_type": "code",
   "execution_count": 13,
   "id": "c942aca8-0194-4cd2-8adb-541a9cccbdbc",
   "metadata": {},
   "outputs": [],
   "source": [
    "hedge_data = np.loadtxt(\"hedge_data_8000.txt\")"
   ]
  },
  {
   "cell_type": "code",
   "execution_count": 15,
   "id": "dd4e9f78",
   "metadata": {},
   "outputs": [
    {
     "name": "stdout",
     "output_type": "stream",
     "text": [
      "0\n",
      "1\n",
      "2\n",
      "3\n",
      "4\n",
      "5\n",
      "6\n",
      "7\n",
      "8\n",
      "9\n",
      "10\n",
      "11\n",
      "12\n",
      "13\n",
      "14\n",
      "15\n",
      "16\n",
      "17\n",
      "18\n",
      "19\n",
      "20\n",
      "21\n",
      "22\n",
      "23\n",
      "24\n",
      "25\n",
      "26\n",
      "27\n",
      "28\n",
      "29\n"
     ]
    }
   ],
   "source": [
    "\n",
    "\n",
    "np.random.seed(3)\n",
    "\n",
    "hedge_data = np.zeros((len(d_steps), N))\n",
    "for i in range(len(d_steps)):\n",
    "    print(i)\n",
    "    for j in range(N):\n",
    "        hedge_data[i,j] = delta_hedging(S0, K, r,mu, sigma, T,k0,k, d_steps[i])\n",
    "    \n",
    "\n"
   ]
  },
  {
   "cell_type": "code",
   "execution_count": 23,
   "id": "ed6f0f49",
   "metadata": {},
   "outputs": [],
   "source": [
    "np.savetxt('hedge_data_8000.txt', hedge_data)"
   ]
  },
  {
   "cell_type": "code",
   "execution_count": 336,
   "id": "40cf6389",
   "metadata": {},
   "outputs": [],
   "source": [
    "hedge_data2 = np.copy(hedge_data)"
   ]
  },
  {
   "cell_type": "code",
   "execution_count": 343,
   "id": "340f2ff7",
   "metadata": {},
   "outputs": [],
   "source": [
    "hedge_data = np.concatenate((hedge_data,np.zeros((5,8000))))"
   ]
  },
  {
   "cell_type": "code",
   "execution_count": 344,
   "id": "a915a40e",
   "metadata": {},
   "outputs": [
    {
     "data": {
      "text/plain": [
       "array([[0.03287934, 0.01356713, 0.07047559, ..., 0.00332864, 0.0097165 ,\n",
       "        0.02629482],\n",
       "       [0.03067952, 0.02214334, 0.16058085, ..., 0.20912256, 0.02091973,\n",
       "        0.04472972],\n",
       "       [0.06608332, 0.01074675, 0.02003121, ..., 0.05233722, 0.02479319,\n",
       "        0.02555379],\n",
       "       ...,\n",
       "       [0.        , 0.        , 0.        , ..., 0.        , 0.        ,\n",
       "        0.        ],\n",
       "       [0.        , 0.        , 0.        , ..., 0.        , 0.        ,\n",
       "        0.        ],\n",
       "       [0.        , 0.        , 0.        , ..., 0.        , 0.        ,\n",
       "        0.        ]])"
      ]
     },
     "execution_count": 344,
     "metadata": {},
     "output_type": "execute_result"
    }
   ],
   "source": []
  },
  {
   "cell_type": "code",
   "execution_count": 268,
   "id": "acc07974",
   "metadata": {},
   "outputs": [],
   "source": [
    "a = 1/(2*(sigma*2)**2)\n",
    "b = 2\n",
    "alpha = 0.05\n",
    "r = 0.3\n",
    "X = -hedge_data[0]\n",
    "para = [a,b,alpha,r,X]\n",
    "x0 = np.array([-1,1,300])\n",
    "p = np.zeros(len(X))+ 1/len(X)"
   ]
  },
  {
   "cell_type": "code",
   "execution_count": 19,
   "id": "b3b6bc20",
   "metadata": {},
   "outputs": [],
   "source": [
    "def f_explog(x,a,b):   #### default: a=0.1, b=2\n",
    "    if x > 0 :\n",
    "        e = np.exp(1)\n",
    "        ### constants calculations\n",
    "        \n",
    "        c1 = 1/(b**2*(a**2+a)*np.exp(a-1))\n",
    "        c2 = 1 - np.exp(a)*(a*b+1)*c1\n",
    "        c3 = -np.exp(a+1)*c1\n",
    "        term = (x+e)*np.exp(a*np.log(x+e)**b) \n",
    "        return(c1*term + c2*x + c3)\n",
    "    else:\n",
    "        return(np.exp(x)-1)\n",
    "    \n",
    "def df_explog(x,a,b):\n",
    "    if x > 0:\n",
    "        e = np.exp(1)\n",
    "        ### constants calculations\n",
    "        \n",
    "        c1 = 1/(b**2*(a**2+a)*np.exp(a-1))\n",
    "        c2 = 1 - np.exp(a)*(a*b+1)*c1\n",
    "        term = np.exp(a*(np.log(x+e))**b)*(a*b*(np.log(x+e))**(b-1)+1)\n",
    "        return(c1*term + c2)\n",
    "    else:\n",
    "        return(np.exp(x))\n",
    "    \n",
    "    \n",
    "def ddf_explog(x,a,b):\n",
    "    if x > 0:\n",
    "        e = np.exp(1)\n",
    "        c1 = 1/(b**2*(a**2+a)*np.exp(a-1))\n",
    "        \n",
    "        term1 = a*b/(x+e)*np.exp(a*np.log(x+e)**b)\n",
    "        term2 = (b-1)*np.log(x+e)**(b-2) + np.log(x+e)**(b-1) + a*b*np.log(x+e)**(2*b-2)\n",
    "        return(c1*term1*term2)\n",
    "    else:\n",
    "        return(np.exp(x))\n",
    "    \n",
    "    \n",
    "def CVaR(x,alpha):\n",
    "    return np.maximum(1/alpha*x,0)\n",
    "\n",
    "def dCVaR(x,alpha):\n",
    "    if x > 0:\n",
    "        return(1/alpha)\n",
    "    else:\n",
    "        return(0)\n",
    "\n",
    "def KL(x):\n",
    "    return np.exp(x)-1\n",
    "\n",
    "    \n",
    "    \n",
    "def log_bar(x):\n",
    "    if x>0:\n",
    "        return(-np.log(x))\n",
    "    else:\n",
    "        return np.inf\n",
    "    \n",
    "def cvar_fast(alpha,x,f):\n",
    "    n = len(f)\n",
    "    order = np.argsort(x)\n",
    "    x = np.sort(x)\n",
    "    f = f[order]\n",
    "    csum = np.cumsum(f)\n",
    "    if csum[0] > alpha:\n",
    "        return(x[0])\n",
    "    else:\n",
    "        k_max = np.max(np.where((csum < alpha)==True))\n",
    "    Ex = np.sum(np.multiply(x[0:k_max+1],f[0:k_max+1]))\n",
    "    last = (alpha - csum[k_max])*x[k_max+1]\n",
    "    return(-1/alpha*(Ex+last))\n",
    "    \n"
   ]
  },
  {
   "cell_type": "code",
   "execution_count": 21,
   "id": "60628d67",
   "metadata": {},
   "outputs": [],
   "source": [
    "\n",
    "def f_lexp(x,X,alpha,a,b,r):\n",
    "    the1 = x[0]\n",
    "    the2 = x[1]\n",
    "    lbda = x[2]\n",
    "    N = len(X)\n",
    "    s1 = 0\n",
    "    for i in range(N):\n",
    "        arg = CVaR(the2-X[i],alpha)\n",
    "        s1 = s1 + lbda * f_explog((arg+the1)/lbda,a,b)\n",
    "    return(s1/N-the1-the2+lbda*r)\n",
    "\n",
    "def grad_flexp(x,X,alpha,a,b,r):\n",
    "    the1 = x[0]\n",
    "    the2 = x[1]\n",
    "    lbda = x[2]\n",
    "    N = len(X)\n",
    "    grad = np.zeros(3)\n",
    "    s1 = 0\n",
    "    s2 = 0\n",
    "    s3 = 0\n",
    "    for i in range(N):\n",
    "        arg = CVaR(the2-X[i],alpha)\n",
    "        s1 = s1 + df_explog((arg+the1)/lbda,a,b)\n",
    "        s2 = s2 + df_explog((arg+the1)/lbda,a,b)* dCVaR(the2-X[i],alpha)\n",
    "        s3 = s3 + f_explog((arg+the1)/lbda,a,b) - df_explog((arg+the1)/lbda,a,b) * ((arg+the1)/lbda)\n",
    "    \n",
    "    grad[0] = -1 + s1/N\n",
    "    grad[1] = -1 + s2/N\n",
    "    grad[2] = r + s3/N\n",
    "    return(grad)\n",
    "\n",
    "def f_constr(x):\n",
    "    return -x[2]\n",
    "\n",
    "def grad_f_constr(x):\n",
    "    return np.array([0,0,-1])"
   ]
  },
  {
   "cell_type": "code",
   "execution_count": 7,
   "id": "2a901e38",
   "metadata": {},
   "outputs": [],
   "source": [
    "def kl_cvar_ball(alpha,x,p,r):\n",
    "    n = len(x)\n",
    "    theta_1 = cp.Variable(1)\n",
    "    theta_2 = cp.Variable(1)\n",
    "    lbda = cp.Variable(1, nonneg = True)\n",
    "    t = cp.Variable(n)\n",
    "    w = cp.Variable(n)\n",
    "    s = cp.Variable(n)\n",
    "    constraints = []\n",
    "    som = 0\n",
    "    for i in range(n):\n",
    "        #if wbln_factor(-x[i],0,np.sqrt(1.5)) >= 1e-5:\n",
    "        constraints.append(theta_1 + cp.pos(1/alpha*(theta_2-x[i])) <= s[i])\n",
    "        constraints.append((w[i] - lbda) <= t[i])   #2/(-x[i])*\n",
    "        constraints.append(cp.kl_div(lbda,w[i])+lbda+s[i]-w[i]<= 0)\n",
    "        som = som + t[i]*p[i]\n",
    "    obj = cp.Minimize(-theta_1-theta_2+lbda*r+som)\n",
    "    prob = cp.Problem(obj,constraints)\n",
    "    prob.solve(solver = cp.MOSEK)\n",
    "    return(prob.value, theta_1.value, theta_2.value, lbda.value)"
   ]
  },
  {
   "cell_type": "code",
   "execution_count": 23,
   "id": "d2e0412e",
   "metadata": {},
   "outputs": [],
   "source": [
    "def ellipsoid_constr_method(f_obj, f_constr, grad_f, grad_f_constr, x0, max_iter, r_e, para):\n",
    "    n = len(x0)\n",
    "    x = x0\n",
    "    P = np.identity(n)*r_e\n",
    "    a,b,alpha,r,X = para\n",
    "    f_best = f_obj(x0,X,alpha,a,b,r)\n",
    "    x_opt = x0\n",
    "    \n",
    "    for i in range(max_iter):\n",
    "        # Calculate the subgradient at the current point.\n",
    "        if x[2] >= 0:\n",
    "            g = grad_f(x,X,alpha,a,b,r)\n",
    "            n_g =np.sqrt((g.dot(P)).dot(g)) \n",
    "            g_n = g/n_g\n",
    "            alfa = (f_obj(x,X,alpha,a,b,r)-f_best)/n_g\n",
    "        else:\n",
    "            g = grad_f_constr(x)\n",
    "            #print('constr_g', (g.dot(P)).dot(g))\n",
    "            n_g =np.sqrt((g.dot(P)).dot(g)) \n",
    "            g_n = g/n_g\n",
    "            alfa = (f_constr(x))/n_g\n",
    "        \n",
    "        # normalize subgradient.\n",
    "        alfa = 0\n",
    "    \n",
    "        # Update the ellipsoid parameters.\n",
    "        U = g_n.dot(P)\n",
    "        c1 = (n**2/(n**2-1)) * (1-alfa**2)\n",
    "        c2 = (1+n*alfa)/((n+1)*(1+alfa))*2\n",
    "        x = x - (1+n*alfa)/(n+1)* P.dot(g_n)\n",
    "        P = c1 * (P - c2 * np.outer(U,U))\n",
    "        #print('x', x)\n",
    "            \n",
    "        if f_obj(x,X,alpha,a,b,r) < f_best and x[2] >= 0:\n",
    "            f_best = f_obj(x,X,alpha,a,b,r)\n",
    "            x_opt = x\n",
    "            x_grad = grad_f(x,X,alpha,a,b,r)\n",
    "        #print('obj', f_best, 'sol', x_opt, np.max(P))\n",
    "        \n",
    "        if np.max(P) <= 1e-6:\n",
    "            print('obj', f_best, 'sol', x_opt,'grad', x_grad,'P-norm', np.max(P))\n",
    "            return(x_opt, f_best, x_grad)\n",
    "    print('max iterations reached')\n",
    "\n",
    "    return x_opt, f_best"
   ]
  },
  {
   "cell_type": "code",
   "execution_count": 9,
   "id": "eaaebb56",
   "metadata": {},
   "outputs": [
    {
     "ename": "NameError",
     "evalue": "name 'sigma' is not defined",
     "output_type": "error",
     "traceback": [
      "\u001b[1;31m---------------------------------------------------------------------------\u001b[0m",
      "\u001b[1;31mNameError\u001b[0m                                 Traceback (most recent call last)",
      "Cell \u001b[1;32mIn[9], line 1\u001b[0m\n\u001b[1;32m----> 1\u001b[0m a \u001b[38;5;241m=\u001b[39m \u001b[38;5;241m1\u001b[39m\u001b[38;5;241m/\u001b[39m(\u001b[38;5;241m2\u001b[39m\u001b[38;5;241m*\u001b[39m(sigma\u001b[38;5;241m*\u001b[39m\u001b[38;5;241m2\u001b[39m)\u001b[38;5;241m*\u001b[39m\u001b[38;5;241m*\u001b[39m\u001b[38;5;241m2\u001b[39m)\n\u001b[0;32m      2\u001b[0m b \u001b[38;5;241m=\u001b[39m \u001b[38;5;241m2\u001b[39m\n\u001b[0;32m      3\u001b[0m alpha \u001b[38;5;241m=\u001b[39m \u001b[38;5;241m0.05\u001b[39m\n",
      "\u001b[1;31mNameError\u001b[0m: name 'sigma' is not defined"
     ]
    }
   ],
   "source": [
    "a = 1/(2*(sigma*2)**2)\n",
    "b = 2\n",
    "alpha = 0.05\n",
    "radius = 0.1"
   ]
  },
  {
   "cell_type": "code",
   "execution_count": 350,
   "id": "904782d9",
   "metadata": {},
   "outputs": [],
   "source": [
    "h_rob = np.concatenate((h_rob, np.zeros(5)))\n",
    "h_e = np.concatenate((h_e, np.zeros(5)))"
   ]
  },
  {
   "cell_type": "code",
   "execution_count": 352,
   "id": "09dfe77d",
   "metadata": {},
   "outputs": [
    {
     "data": {
      "text/plain": [
       "30"
      ]
     },
     "execution_count": 352,
     "metadata": {},
     "output_type": "execute_result"
    }
   ],
   "source": [
    "len(d_steps)"
   ]
  },
  {
   "cell_type": "code",
   "execution_count": 353,
   "id": "0cee3058",
   "metadata": {},
   "outputs": [
    {
     "name": "stdout",
     "output_type": "stream",
     "text": [
      "obj 0.20558888781412912 sol [-0.00464341 -0.1902422   0.1048668 ] grad [-7.24602246e-06  5.34669972e-05  1.13301263e-05] P-norm 6.989545305472034e-07\n",
      "obj 0.2093194906807859 sol [-0.00431464 -0.19536076  0.09496496] grad [-0.00028052 -0.00259365  0.00028803] P-norm 7.927140012459783e-07\n",
      "obj 0.21912224810562198 sol [-0.00599423 -0.19915263  0.13677966] grad [-1.39569883e-05  8.40619416e-04 -6.76041957e-05] P-norm 9.722116853816185e-07\n",
      "obj 0.21940544910537266 sol [-0.00578883 -0.19983332  0.13469156] grad [-7.71245206e-05  2.69469038e-04 -5.54576237e-05] P-norm 6.920522399845354e-07\n",
      "obj 0.22341982803827293 sol [-0.00439727 -0.20891737  0.09896043] grad [ 6.34308808e-05 -3.60942938e-04  4.84357736e-05] P-norm 7.883881602082682e-07\n"
     ]
    }
   ],
   "source": [
    "#h_rob = np.zeros(len(d_steps))\n",
    "#h_e = np.zeros(len(d_steps))\n",
    "for i in range(25,len(d_steps)):\n",
    "    N_data = len(hedge_data[i])\n",
    "    X = -hedge_data[i]\n",
    "    para = [a,b,alpha,radius,X]\n",
    "    x0 = np.array([-1,1,5])\n",
    "    h_e[i] = cvar_fast(alpha,-hedge_data[i],np.zeros(N_data)+ 1/N_data)\n",
    "    h_rob[i] = ellipsoid_constr_method(f_lexp, f_constr, grad_flexp, grad_f_constr, x0, 400, 1000, para)[1]"
   ]
  },
  {
   "cell_type": "code",
   "execution_count": 348,
   "id": "fb0b4bc1",
   "metadata": {},
   "outputs": [],
   "source": [
    "h_e1 = np.copy(h_e)\n",
    "h_rob2 = np.copy(h_rob)"
   ]
  },
  {
   "cell_type": "code",
   "execution_count": 304,
   "id": "46924dd0",
   "metadata": {},
   "outputs": [
    {
     "data": {
      "text/plain": [
       "array([0.42102634, 0.26360869, 0.23145835, 0.18369331, 0.19327611,\n",
       "       0.17617063, 0.1579568 , 0.16648116, 0.1672778 , 0.16978016,\n",
       "       0.15665166, 0.1649026 , 0.16478069, 0.16310521, 0.17363373,\n",
       "       0.16963774, 0.17112434, 0.17866887, 0.19206007])"
      ]
     },
     "execution_count": 304,
     "metadata": {},
     "output_type": "execute_result"
    }
   ],
   "source": []
  },
  {
   "cell_type": "code",
   "execution_count": 362,
   "id": "77f6cd54",
   "metadata": {},
   "outputs": [
    {
     "name": "stdout",
     "output_type": "stream",
     "text": [
      "4\n",
      "100\n",
      "10\n",
      "220\n"
     ]
    }
   ],
   "source": [
    "print(np.argmin(h_e))\n",
    "print(d_steps[4])\n",
    "print(np.argmin(h_rob))\n",
    "print(d_steps[10])"
   ]
  },
  {
   "cell_type": "code",
   "execution_count": 11,
   "id": "3181d570",
   "metadata": {},
   "outputs": [],
   "source": [
    "hedge_data = np.loadtxt('hedge_data.txt')\n",
    "h_rob = np.loadtxt('h_rob.txt')\n",
    "h_e = np.loadtxt('h_e.txt')\n",
    "d_steps = np.loadtxt('d_steps.txt')"
   ]
  },
  {
   "cell_type": "code",
   "execution_count": 12,
   "id": "4ad97522",
   "metadata": {},
   "outputs": [
    {
     "data": {
      "text/plain": [
       "array([[0.03287934, 0.01356713, 0.07047559, ..., 0.00332864, 0.0097165 ,\n",
       "        0.02629482],\n",
       "       [0.03067952, 0.02214334, 0.16058085, ..., 0.20912256, 0.02091973,\n",
       "        0.04472972],\n",
       "       [0.06608332, 0.01074675, 0.02003121, ..., 0.05233722, 0.02479319,\n",
       "        0.02555379],\n",
       "       ...,\n",
       "       [0.16441098, 0.14853773, 0.14995618, ..., 0.17101997, 0.12750869,\n",
       "        0.16301947],\n",
       "       [0.17140244, 0.146737  , 0.12033248, ..., 0.18378518, 0.19185372,\n",
       "        0.17796759],\n",
       "       [0.18529838, 0.1735106 , 0.1547978 , ..., 0.15348598, 0.16250841,\n",
       "        0.15824003]])"
      ]
     },
     "execution_count": 12,
     "metadata": {},
     "output_type": "execute_result"
    }
   ],
   "source": []
  },
  {
   "cell_type": "code",
   "execution_count": 59,
   "id": "10b9d3f0",
   "metadata": {},
   "outputs": [
    {
     "name": "stderr",
     "output_type": "stream",
     "text": [
      "The PostScript backend does not support transparency; partially transparent artists will be rendered opaque.\n"
     ]
    },
    {
     "data": {
      "image/png": "[encoded data removed]",
      "text/plain": [
       "<Figure size 640x480 with 1 Axes>"
      ]
     },
     "metadata": {},
     "output_type": "display_data"
    }
   ],
   "source": [
    "\n",
    "coefficients_rob = np.polyfit(d_steps, h_rob, 12)\n",
    "coefficients_nom = np.polyfit(d_steps, h_e, 12)\n",
    "\n",
    "# Generate points for the fitted curve\n",
    "x_fit_rob = np.linspace(d_steps.min(), d_steps.max(), 100)\n",
    "y_fit_rob = np.polyval(coefficients_rob, x_fit_rob)\n",
    "\n",
    "x_fit_nom = np.linspace(d_steps.min(), d_steps.max(), 100)\n",
    "y_fit_nom = np.polyval(coefficients_nom, x_fit_nom)\n",
    "\n",
    "# Plot the original data\n",
    "plt.scatter(d_steps, h_rob, label='Robust $\\mathrm{CVaR}_{0.95}$')\n",
    "plt.scatter(d_steps, h_e, label='Nominal $\\mathrm{CVaR}_{0.95}$', marker = 'x')\n",
    "\n",
    "# Plot the fitted curve\n",
    "plt.plot(x_fit_rob, y_fit_rob, color='red',linewidth=0.8)\n",
    "plt.plot(x_fit_nom, y_fit_nom, color='black',linewidth=0.8,linestyle = '--')\n",
    "\n",
    "plt.xlabel('Hedging Frequency')\n",
    "plt.ylabel('$\\mathrm{CVaR}_{0.95}$ Risk of Hedging Error')\n",
    "plt.legend()\n",
    "plt.savefig('BlackScholes.eps', format = 'eps')\n"
   ]
  },
  {
   "cell_type": "code",
   "execution_count": 45,
   "id": "5b726e18",
   "metadata": {},
   "outputs": [
    {
     "data": {
      "text/plain": [
       "array([ 4.87781761e-30, -2.05044840e-26,  3.82350662e-23, -4.16449340e-20,\n",
       "        2.93624282e-17, -1.40378274e-14,  4.63607799e-12, -1.05814162e-09,\n",
       "        1.64500018e-07, -1.69059296e-05,  1.09435991e-03, -4.13167170e-02,\n",
       "        9.21174027e-01])"
      ]
     },
     "execution_count": 45,
     "metadata": {},
     "output_type": "execute_result"
    }
   ],
   "source": [
    "coefficients_h_rob"
   ]
  },
  {
   "cell_type": "code",
   "execution_count": 254,
   "id": "ec0443c9",
   "metadata": {},
   "outputs": [
    {
     "name": "stdout",
     "output_type": "stream",
     "text": [
      "x [  -2.26995205 -352.55079377  299.52730167]\n",
      "obj 30.93983227055702 sol [ -1   1 300] 2249997.989006628\n",
      "x [  0.77851879 -87.63674086 283.29386437]\n",
      "obj 30.93983227055702 sol [ -1   1 300] 2531150.032050652\n",
      "x [ -5.12167711 111.06783965 271.09884363]\n",
      "obj 30.93983227055702 sol [ -1   1 300] 2847230.4752524537\n",
      "x [-48.51836988   6.46531978 550.03652095]\n",
      "obj 30.93983227055702 sol [ -1   1 300] 3186184.828166882\n",
      "x [ -39.31182337 -131.37969631  397.42463413]\n",
      "obj 30.93983227055702 sol [ -1   1 300] 3583695.0872002197\n",
      "x [131.6763283  -37.30796258 474.22128536]\n",
      "obj 30.93983227055702 sol [ -1   1 300] 3768524.4410104095\n",
      "x [-310.35201287   17.78573391  531.7701938 ]\n",
      "obj 30.93983227055702 sol [ -1   1 300] 3203115.0335353944\n",
      "x [-325.93040669  -61.15690046  421.71663126]\n",
      "obj 30.93983227055702 sol [ -1   1 300] 3494498.3330772608\n",
      "x [ 57.61996398 -44.6987284  609.55119059]\n",
      "obj 30.93983227055702 sol [ -1   1 300] 3613774.22962703\n",
      "x [-137.13336222   10.13469698  606.02260221]\n",
      "obj 30.93983227055702 sol [ -1   1 300] 4065383.949907291\n",
      "x [-184.76967094  -40.6181634   526.64717209]\n",
      "obj 30.93983227055702 sol [ -1   1 300] 4516852.8134806\n",
      "x [134.9722375  -25.05504522 517.81847282]\n",
      "obj 30.93983227055702 sol [ -1   1 300] 5080757.90178853\n",
      "x [-117.80958809   -3.78551397  672.11490929]\n",
      "obj 30.93983227055702 sol [ -1   1 300] 5501586.126756789\n",
      "x [ 42.18564189  24.05773404 552.24758213]\n",
      "obj 30.93983227055702 sol [ -1   1 300] 6059970.807517648\n",
      "x [ 49.20741373  -7.8547582  662.21543057]\n",
      "obj 29.602947367711213 sol [ 49.20741373  -7.8547582  662.21543057] 6708630.809247534\n",
      "x [-93.15171468  12.59771072 501.32612035]\n",
      "obj 29.602947367711213 sol [ 49.20741373  -7.8547582  662.21543057] 7314241.329126772\n",
      "x [-108.40366251  -11.80223366  215.68297449]\n",
      "obj 29.602947367711213 sol [ 49.20741373  -7.8547582  662.21543057] 7494193.434276153\n",
      "x [ 66.88751021  -6.79780949 488.07933955]\n",
      "obj 26.27478945045528 sol [ 66.88751021  -6.79780949 488.07933955] 7763169.596291\n",
      "x [-81.35346141   6.25197853 573.10016737]\n",
      "obj 26.27478945045528 sol [ 66.88751021  -6.79780949 488.07933955] 8668508.925349336\n",
      "x [-79.7762554  -11.79337582 294.08044773]\n",
      "obj 26.27478945045528 sol [ 66.88751021  -6.79780949 488.07933955] 9051404.505479611\n",
      "x [78.63728776 -7.65272213 36.4600649 ]\n",
      "obj 26.27478945045528 sol [ 66.88751021  -6.79780949 488.07933955] 9585515.713810964\n",
      "x [ 13.16816384  -3.22978203 806.29383098]\n",
      "obj 26.27478945045528 sol [ 66.88751021  -6.79780949 488.07933955] 5449908.93146955\n",
      "x [  9.473689     4.85790935 404.63877987]\n",
      "obj 26.27478945045528 sol [ 66.88751021  -6.79780949 488.07933955] 4679206.527166767\n",
      "x [ 16.25035612  -9.18145326 157.99749876]\n",
      "obj 14.791165411261037 sol [ 16.25035612  -9.18145326 157.99749876] 4716620.049126912\n",
      "x [-94.36238057  -4.40370044  40.86676906]\n",
      "obj 14.791165411261037 sol [ 16.25035612  -9.18145326 157.99749876] 5182721.084704164\n",
      "x [-109.63261047    1.38916869  578.56503561]\n",
      "obj 14.791165411261037 sol [ 16.25035612  -9.18145326 157.99749876] 3228486.387592677\n",
      "x [-87.48483092  -9.08729612 384.61558694]\n",
      "obj 14.791165411261037 sol [ 16.25035612  -9.18145326 157.99749876] 3293499.688284085\n",
      "x [ 56.92695847  -6.83218009 150.138687  ]\n",
      "obj 14.791165411261037 sol [ 16.25035612  -9.18145326 157.99749876] 3210372.3998558777\n",
      "x [-46.76586207  -4.34448731 471.16738241]\n",
      "obj 14.791165411261037 sol [ 16.25035612  -9.18145326 157.99749876] 2684134.140314888\n",
      "x [ 12.78611401  -0.50418303 227.73990608]\n",
      "obj 7.703206243704562 sol [ 12.78611401  -0.50418303 227.73990608] 2486338.481753927\n",
      "x [-37.85034899   2.6803069  -25.30796825]\n",
      "obj 7.703206243704562 sol [ 12.78611401  -0.50418303 227.73990608] 2220831.7516579167\n",
      "constr_g 2220831.7516579167\n",
      "x [-42.1226438    7.91607154 347.25341526]\n",
      "obj 7.703206243704562 sol [ 12.78611401  -0.50418303 227.73990608] 1249217.8603075785\n",
      "x [-58.25460068  -0.53040893 235.16430991]\n",
      "obj 7.703206243704562 sol [ 12.78611401  -0.50418303 227.73990608] 1292294.385013008\n",
      "x [ 32.82181442   0.68074541 232.29410089]\n",
      "obj 7.703206243704562 sol [ 12.78611401  -0.50418303 227.73990608] 1453757.0402413933\n",
      "x [ 44.67506156  -6.13994619 115.30015505]\n",
      "obj 7.703206243704562 sol [ 12.78611401  -0.50418303 227.73990608] 1512288.4199873551\n",
      "x [-23.14562794  -3.82202158 283.50162983]\n",
      "obj 7.703206243704562 sol [ 12.78611401  -0.50418303 227.73990608] 1446698.8474174116\n",
      "x [-2.48304566 -1.88986466 83.15102158]\n",
      "obj 4.421103218308703 sol [-2.48304566 -1.88986466 83.15102158] 1266272.9072977453\n",
      "x [ -21.93578467   -0.38439725 -133.44602685]\n",
      "obj 4.421103218308703 sol [-2.48304566 -1.88986466 83.15102158] 1002328.48824502\n",
      "constr_g 1002328.48824502\n",
      "x [  2.31224776   2.73035299 116.84486495]\n",
      "obj 4.421103218308703 sol [-2.48304566 -1.88986466 83.15102158] 563809.7746378238\n",
      "x [ 2.76155413 -2.4375391  46.57965296]\n",
      "obj 3.9186939956802274 sol [ 2.76155413 -2.4375391  46.57965296] 589851.196320404\n",
      "x [-62.25906693  -0.63804764 -64.10758519]\n",
      "obj 3.9186939956802274 sol [ 2.76155413 -2.4375391  46.57965296] 553317.6136743515\n",
      "constr_g 553317.6136743515\n",
      "x [-60.68702253   1.71324434 121.85571994]\n",
      "obj 3.9186939956802274 sol [ 2.76155413 -2.4375391  46.57965296] 311241.1576918226\n",
      "x [-33.81874391  -2.36319358  63.2916637 ]\n",
      "obj 3.9186939956802274 sol [ 2.76155413 -2.4375391  46.57965296] 319278.56424978975\n",
      "x [ 32.56919358  -1.8593183  125.0412228 ]\n",
      "obj 3.9186939956802274 sol [ 2.76155413 -2.4375391  46.57965296] 324871.312335933\n",
      "x [-22.39616167  -0.68518315 163.84991822]\n",
      "obj 3.9186939956802274 sol [ 2.76155413 -2.4375391  46.57965296] 351925.19281745213\n",
      "x [ 12.92111627   0.65208107 114.32163983]\n",
      "obj 3.9186939956802274 sol [ 2.76155413 -2.4375391  46.57965296] 373838.3886787857\n",
      "x [14.80068142 -2.80290266 57.68801909]\n",
      "obj 3.9186939956802274 sol [ 2.76155413 -2.4375391  46.57965296] 391701.8842727726\n",
      "x [-23.50899368  -1.66010808  59.08072672]\n",
      "obj 3.9186939956802274 sol [ 2.76155413 -2.4375391  46.57965296] 440647.16309576953\n",
      "x [  3.61242316  -0.83679833 165.75083915]\n",
      "obj 3.9186939956802274 sol [ 2.76155413 -2.4375391  46.57965296] 393321.4425125964\n",
      "x [-0.6275936   0.24895913 36.6664291 ]\n",
      "obj 3.9186939956802274 sol [ 2.76155413 -2.4375391  46.57965296] 292521.55855855165\n",
      "x [  1.15419217  -2.53935058 -25.0864827 ]\n",
      "obj 3.9186939956802274 sol [ 2.76155413 -2.4375391  46.57965296] 294765.9543394472\n",
      "constr_g 294765.9543394472\n",
      "x [ -2.62759912  -1.85860707 110.64439863]\n",
      "obj 3.9186939956802274 sol [ 2.76155413 -2.4375391  46.57965296] 165805.8493159391\n",
      "x [ 3.54512755 -0.97559375 32.326072  ]\n",
      "obj 2.1482409222054692 sol [ 3.54512755 -0.97559375 32.326072  ] 131327.73790224665\n",
      "x [-24.56251253  -0.07281337  13.14709324]\n",
      "obj 2.1482409222054692 sol [ 3.54512755 -0.97559375 32.326072  ] 144433.20610278772\n",
      "x [-16.31140207   0.95449568  97.72503187]\n",
      "obj 2.1482409222054692 sol [ 3.54512755 -0.97559375 32.326072  ] 98106.50752940084\n",
      "x [-14.06994886  -1.2945601   57.73201691]\n",
      "obj 2.1482409222054692 sol [ 3.54512755 -0.97559375 32.326072  ] 95974.84975522132\n",
      "x [13.81660915 -1.01323875 31.81253271]\n",
      "obj 2.1482409222054692 sol [ 3.54512755 -0.97559375 32.326072  ] 101925.32902486344\n",
      "x [-5.67268909 -0.23478852 89.39927586]\n",
      "obj 2.1482409222054692 sol [ 3.54512755 -0.97559375 32.326072  ] 84819.89826922213\n",
      "x [ 2.00428149  0.59718178 45.5390131 ]\n",
      "obj 2.1482409222054692 sol [ 3.54512755 -0.97559375 32.326072  ] 78108.88170865712\n",
      "x [ 1.93274689 -1.17687129 12.88774126]\n",
      "obj 1.7171568767315466 sol [ 1.93274689 -1.17687129 12.88774126] 78277.54194355472\n",
      "x [-16.82114574  -0.63313406  -8.47632504]\n",
      "obj 1.7171568767315466 sol [ 1.93274689 -1.17687129 12.88774126] 83954.42472604538\n",
      "constr_g 83954.42472604538\n",
      "x [-1.63963957e+01  3.38236686e-02  6.39608998e+01]\n",
      "obj 1.7171568767315466 sol [ 1.93274689 -1.17687129 12.88774126] 47224.36390840054\n",
      "x [-13.2484214   -1.34007507  43.64818568]\n",
      "obj 1.7171568767315466 sol [ 1.93274689 -1.17687129 12.88774126] 49413.9521969863\n",
      "x [ 3.77243112 -1.01697663 54.59515717]\n",
      "obj 1.7171568767315466 sol [ 1.93274689 -1.17687129 12.88774126] 54512.17055776952\n",
      "x [-3.13096998 -0.56566476 16.55229603]\n",
      "obj 1.3405343822398337 sol [-3.13096998 -0.56566476 16.55229603] 48300.85831952619\n",
      "x [ 9.35844937 -0.25659826 -1.93041434]\n",
      "obj 1.3405343822398337 sol [-3.13096998 -0.56566476 16.55229603] 51263.97036559254\n",
      "constr_g 51263.97036559254\n",
      "x [ 7.76740136  0.32179332 54.67345609]\n"
     ]
    },
    {
     "name": "stdout",
     "output_type": "stream",
     "text": [
      "obj 1.3405343822398337 sol [-3.13096998 -0.56566476 16.55229603] 28835.983330645795\n",
      "x [ 7.9159667  -0.80643543 40.37772412]\n",
      "obj 1.3405343822398337 sol [-3.13096998 -0.56566476 16.55229603] 30601.169674003577\n",
      "x [-3.68354154 -0.41898912 43.56975289]\n",
      "obj 1.3405343822398337 sol [-3.13096998 -0.56566476 16.55229603] 34334.614454030685\n",
      "x [ 1.74436262 -0.13819442 12.48826158]\n",
      "obj 0.6565737482429643 sol [ 1.74436262 -0.13819442 12.48826158] 29931.90934447979\n",
      "x [ -5.55023816  -0.48219966 -15.93730159]\n",
      "obj 0.6565737482429643 sol [ 1.74436262 -0.13819442 12.48826158] 26401.284236149466\n",
      "constr_g 26401.284236149466\n",
      "x [-7.10018725 -0.09513808 24.68387841]\n",
      "obj 0.6565737482429643 sol [ 1.74436262 -0.13819442 12.48826158] 14850.72238283407\n",
      "x [-3.34990492 -1.00745457 15.13071302]\n",
      "obj 0.6565737482429643 sol [ 1.74436262 -0.13819442 12.48826158] 15885.695959713717\n",
      "x [ 4.38409925 -0.80843233 10.82960846]\n",
      "obj 0.6565737482429643 sol [ 1.74436262 -0.13819442 12.48826158] 17704.9124508637\n",
      "x [-0.9138954  -0.43486532 31.43612543]\n",
      "obj 0.6565737482429643 sol [ 1.74436262 -0.13819442 12.48826158] 16096.369634768787\n",
      "x [-2.01622885 -0.02847488  7.72780699]\n",
      "obj 0.6565737482429643 sol [ 1.74436262 -0.13819442 12.48826158] 13049.656572652255\n",
      "x [-1.52035462 -0.73619018 -5.23597305]\n",
      "obj 0.6565737482429643 sol [ 1.74436262 -0.13819442 12.48826158] 13168.327308153559\n",
      "constr_g 13168.327308153559\n",
      "x [ 0.56769211 -0.58887526 23.45236007]\n",
      "obj 0.6565737482429643 sol [ 1.74436262 -0.13819442 12.48826158] 7407.184110836378\n",
      "x [-2.5294895  -0.289721    8.53974347]\n",
      "obj 0.6565737482429643 sol [ 1.74436262 -0.13819442 12.48826158] 6331.606922170122\n",
      "x [ 4.05135463 -0.10359403 14.12563307]\n",
      "obj 0.6565737482429643 sol [ 1.74436262 -0.13819442 12.48826158] 6842.238324109116\n",
      "x [ 3.76899184 -0.64529389  6.05114357]\n",
      "obj 0.6565737482429643 sol [ 1.74436262 -0.13819442 12.48826158] 7110.741688404573\n",
      "x [-0.22413461 -0.43107256 22.37941522]\n",
      "obj 0.6565737482429643 sol [ 1.74436262 -0.13819442 12.48826158] 5600.07230243626\n",
      "x [-1.58295799 -0.22759992  8.58617189]\n",
      "obj 0.6225344903303005 sol [-1.58295799 -0.22759992  8.58617189] 4587.799285335151\n",
      "x [ 3.5869859  -0.12916799 11.38165669]\n",
      "obj 0.6225344903303005 sol [-1.58295799 -0.22759992  8.58617189] 5090.941578711419\n",
      "x [ 0.01577433 -0.26457719  8.14763847]\n",
      "obj 0.5090216219968715 sol [ 0.01577433 -0.26457719  8.14763847] 5633.179411210155\n",
      "x [-2.13622701 -0.09848827 -3.76682583]\n",
      "obj 0.5090216219968715 sol [ 0.01577433 -0.26457719  8.14763847] 5059.7367028771605\n",
      "constr_g 5059.7367028771605\n",
      "x [-2.43496743  0.23552374 14.01613073]\n",
      "obj 0.5090216219968715 sol [ 0.01577433 -0.26457719  8.14763847] 2846.1018953684015\n",
      "x [-1.04070418 -0.19862973  6.43410648]\n",
      "obj 0.47145869284395214 sol [-1.04070418 -0.19862973  6.43410648] 2684.480806842223\n",
      "x [ 2.63882744 -0.21749879  5.05170718]\n",
      "obj 0.47145869284395214 sol [-1.04070418 -0.19862973  6.43410648] 3002.8416572831097\n",
      "x [ 0.22630625  0.0456414  13.80688858]\n",
      "obj 0.47145869284395214 sol [-1.04070418 -0.19862973  6.43410648] 2688.31805218621\n",
      "x [ 0.89265095 -0.26750874  9.63157386]\n",
      "obj 0.47145869284395214 sol [-1.04070418 -0.19862973  6.43410648] 2867.458531498688\n",
      "x [-2.14473789e+00 -1.63064005e-01  1.92072536e-03]\n",
      "obj 0.47145869284395214 sol [-1.04070418 -0.19862973  6.43410648] 2391.318872580725\n",
      "x [-0.88456084 -0.08104641 11.95628998]\n",
      "obj 0.47145869284395214 sol [-1.04070418 -0.19862973  6.43410648] 1404.0712323126852\n",
      "x [-0.19409878 -0.32728937  8.52645444]\n",
      "obj 0.47145869284395214 sol [-1.04070418 -0.19862973  6.43410648] 1473.706189511719\n",
      "x [-0.08133636 -0.25406527  0.83359717]\n",
      "obj 0.28291532233312905 sol [-0.08133636 -0.25406527  0.83359717] 1125.2989863816708\n",
      "x [ 2.30719741 -0.2281965  -1.66587924]\n",
      "obj 0.28291532233312905 sol [-0.08133636 -0.25406527  0.83359717] 1209.7349190108675\n",
      "constr_g 1209.7349190108675\n",
      "x [ 3.13955099 -0.13391786  7.02943171]\n",
      "obj 0.28291532233312905 sol [-0.08133636 -0.25406527  0.83359717] 680.475891943613\n",
      "x [ 0.43124547 -0.07043735  7.98242652]\n",
      "obj 0.28291532233312905 sol [-0.08133636 -0.25406527  0.83359717] 757.3615864685211\n",
      "x [ 0.91641592 -0.275216    5.19991522]\n",
      "obj 0.28291532233312905 sol [-0.08133636 -0.25406527  0.83359717] 782.350462445091\n",
      "x [-1.52643306 -0.20270642  2.06073343]\n",
      "obj 0.28291532233312905 sol [-0.08133636 -0.25406527  0.83359717] 791.4541099054206\n",
      "x [ 6.66515749e-03 -1.63054084e-01  7.81995346e+00]\n",
      "obj 0.28291532233312905 sol [-0.08133636 -0.25406527  0.83359717] 591.8683358621463\n",
      "x [-0.23965893 -0.08969999  3.4938688 ]\n",
      "obj 0.28291532233312905 sol [-0.08133636 -0.25406527  0.83359717] 497.41680153892514\n",
      "x [ 0.05296295 -0.25227474  0.15417878]\n",
      "obj 0.2673177105261931 sol [ 0.05296295 -0.25227474  0.15417878] 459.2121367808972\n",
      "x [-1.71374024 -0.202914    2.2003827 ]\n",
      "obj 0.2673177105261931 sol [ 0.05296295 -0.25227474  0.15417878] 478.9310994003617\n",
      "x [-0.59234496 -0.15900784  6.51526749]\n",
      "obj 0.2673177105261931 sol [ 0.05296295 -0.25227474  0.15417878] 371.2334101851566\n",
      "x [ 0.3170546  -0.12000698  3.61231638]\n",
      "obj 0.2673177105261931 sol [ 0.05296295 -0.25227474  0.15417878] 341.79346001896147\n",
      "x [ 0.3561706  -0.24764084  0.97097955]\n",
      "obj 0.2673177105261931 sol [ 0.05296295 -0.25227474  0.15417878] 321.72770050265007\n",
      "x [-0.86108325 -0.1939091   2.54298772]\n",
      "obj 0.2673177105261931 sol [ 0.05296295 -0.25227474  0.15417878] 339.70277609450386\n",
      "x [ 0.16426259 -0.1738206   4.97541212]\n",
      "obj 0.2673177105261931 sol [ 0.05296295 -0.25227474  0.15417878] 328.9154268085701\n",
      "x [-0.21542117 -0.11309557  1.65770645]\n",
      "obj 0.2673177105261931 sol [ 0.05296295 -0.25227474  0.15417878] 270.9653167263365\n",
      "x [ 0.01705616 -0.21515018 -0.38693384]\n",
      "obj 0.2673177105261931 sol [ 0.05296295 -0.25227474  0.15417878] 267.2109962291754\n",
      "constr_g 267.2109962291754\n",
      "x [-2.55697794e-03 -1.95745382e-01  3.69971360e+00]\n",
      "obj 0.2673177105261931 sol [ 0.05296295 -0.25227474  0.15417878] 150.3061853789112\n",
      "x [-0.05985679 -0.14896402  1.55900125]\n",
      "obj 0.20136753892601084 sol [-0.05985679 -0.14896402  1.55900125] 127.85061456677485\n",
      "x [ 0.40889783 -0.15077808 -0.68208387]\n",
      "obj 0.20136753892601084 sol [-0.05985679 -0.14896402  1.55900125] 98.62977837001833\n",
      "constr_g 98.62977837001833\n",
      "x [ 0.59265444 -0.10343596  1.80072928]\n",
      "obj 0.20136753892601084 sol [-0.05985679 -0.14896402  1.55900125] 55.4792503331353\n",
      "x [ 0.31559541 -0.17635166  1.15588906]\n",
      "obj 0.20136753892601084 sol [-0.05985679 -0.14896402  1.55900125] 58.671786415387636\n",
      "x [-0.82502593 -0.1418886   1.26900387]\n",
      "obj 0.20136753892601084 sol [-0.05985679 -0.14896402  1.55900125] 65.89060506969666\n",
      "x [-0.03102878 -0.13575098  2.44977718]\n",
      "obj 0.20136753892601084 sol [-0.05985679 -0.14896402  1.55900125] 61.578900065910204\n",
      "x [ 0.16841642 -0.19059283  0.74404843]\n",
      "obj 0.20136753892601084 sol [-0.05985679 -0.14896402  1.55900125] 43.09066716384008\n",
      "x [-0.56326955 -0.16414467  0.83925891]\n",
      "obj 0.20136753892601084 sol [-0.05985679 -0.14896402  1.55900125] 48.39541523726733\n",
      "x [-0.0868501  -0.14984263  1.82109949]\n",
      "obj 0.20136753892601084 sol [-0.05985679 -0.14896402  1.55900125] 45.76874373306635\n",
      "x [ 0.18112485 -0.1184804   0.46075785]\n",
      "obj 0.20136753892601084 sol [-0.05985679 -0.14896402  1.55900125] 34.8350722941421\n",
      "x [ 0.02635729 -0.15418823  1.26588098]\n",
      "obj 0.19520317673743254 sol [ 0.02635729 -0.15418823  1.26588098] 33.35544704264239\n",
      "x [-0.24407972 -0.12235513  0.63065404]\n",
      "obj 0.19520317673743254 sol [ 0.02635729 -0.15418823  1.26588098] 33.89325850435115\n",
      "x [ 0.09815325 -0.17474971 -0.12781231]\n",
      "obj 0.19520317673743254 sol [ 0.02635729 -0.15418823  1.26588098] 32.95247497052321\n",
      "constr_g 32.95247497052321\n",
      "x [ 0.08547425 -0.14225236  1.30729385]\n",
      "obj 0.19493623165677437 sol [ 0.08547425 -0.14225236  1.30729385] 18.535767170919307\n",
      "x [-0.31941386 -0.1647134   0.66071998]\n",
      "obj 0.19493623165677437 sol [ 0.08547425 -0.14225236  1.30729385] 17.090218174408786\n",
      "x [ 0.08284421 -0.1518954   0.7650771 ]\n",
      "obj 0.18384220071927074 sol [ 0.08284421 -0.1518954   0.7650771 ] 19.12848177491575\n",
      "x [-0.24435071 -0.12324542  0.97617649]\n",
      "obj 0.18384220071927074 sol [ 0.08284421 -0.1518954   0.7650771 ] 21.118475408672808\n",
      "x [-0.11299144 -0.1679097   0.33189923]\n",
      "obj 0.18384220071927074 sol [ 0.08284421 -0.1518954   0.7650771 ] 20.022446091990147\n",
      "x [ 0.18105128 -0.14838739  0.15513225]\n",
      "obj 0.18384220071927074 sol [ 0.08284421 -0.1518954   0.7650771 ] 22.24403276936029\n"
     ]
    },
    {
     "name": "stdout",
     "output_type": "stream",
     "text": [
      "x [ 0.01445663 -0.14078579  1.31567701]\n",
      "obj 0.18384220071927074 sol [ 0.08284421 -0.1518954   0.7650771 ] 12.90275947292413\n",
      "x [ 0.04204888 -0.1607635   0.46790589]\n",
      "obj 0.1784201569720111 sol [ 0.04204888 -0.1607635   0.46790589] 8.047161543431885\n",
      "x [-0.10686285 -0.13214349  0.33416352]\n",
      "obj 0.1784201569720111 sol [ 0.04204888 -0.1607635   0.46790589] 8.892073528786112\n",
      "x [-0.12471971 -0.15897018  0.63386648]\n",
      "obj 0.1784201569720111 sol [ 0.04204888 -0.1607635   0.46790589] 9.195185938370525\n",
      "x [ 0.13475911 -0.14360792  0.36819698]\n",
      "obj 0.1784201569720111 sol [ 0.04204888 -0.1607635   0.46790589] 9.709361662737873\n",
      "x [-0.05829379 -0.14140833  0.92083195]\n",
      "obj 0.1784201569720111 sol [ 0.04204888 -0.1607635   0.46790589] 8.174383178852034\n",
      "x [ 0.01954519 -0.16044645  0.26784418]\n",
      "obj 0.171623990687289 sol [ 0.01954519 -0.16044645  0.26784418] 5.358643736211188\n",
      "x [-0.09406358 -0.14327185  0.11400585]\n",
      "obj 0.171623990687289 sol [ 0.01954519 -0.16044645  0.26784418] 5.815478140653433\n",
      "x [-0.08541035 -0.13376611  0.70659082]\n",
      "obj 0.171623990687289 sol [ 0.01954519 -0.16044645  0.26784418] 3.382000388109021\n",
      "x [-0.09558554 -0.16177523  0.43357298]\n",
      "obj 0.171623990687289 sol [ 0.01954519 -0.16044645  0.26784418] 3.1339017330530834\n",
      "x [ 0.08905177 -0.14373128  0.49626652]\n",
      "obj 0.171623990687289 sol [ 0.01954519 -0.16044645  0.26784418] 3.490265131781779\n",
      "x [-0.06067044 -0.15355773  0.46552883]\n",
      "obj 0.171623990687289 sol [ 0.01954519 -0.16044645  0.26784418] 3.918045027426762\n",
      "x [ 0.02166528 -0.14177941  0.335557  ]\n",
      "obj 0.171623990687289 sol [ 0.01954519 -0.16044645  0.26784418] 4.25576655161181\n",
      "x [-0.00485856 -0.15712382  0.38012323]\n",
      "obj 0.17123524632103693 sol [-0.00485856 -0.15712382  0.38012323] 4.769862025144264\n",
      "x [-0.06636466 -0.1489983   0.06110371]\n",
      "obj 0.17123524632103693 sol [-0.00485856 -0.15712382  0.38012323] 4.450133690418489\n",
      "x [-0.05935576 -0.13561275  0.58793864]\n",
      "obj 0.17123524632103693 sol [-0.00485856 -0.15712382  0.38012323] 2.508405086489434\n",
      "x [ 0.00492715 -0.15356122  0.33986657]\n",
      "obj 0.16842880725321774 sol [ 0.00492715 -0.15356122  0.33986657] 2.268097971422515\n",
      "x [-0.07681943 -0.14835756  0.11061035]\n",
      "obj 0.16842880725321774 sol [ 0.00492715 -0.15356122  0.33986657] 2.0785844840402796\n",
      "x [-0.06661713 -0.14066967  0.46757129]\n",
      "obj 0.16842880725321774 sol [ 0.00492715 -0.15356122  0.33986657] 1.1916175457955545\n",
      "x [ 0.03088441 -0.14935787  0.35476568]\n",
      "obj 0.16842880725321774 sol [ 0.00492715 -0.15356122  0.33986657] 1.2260437962600947\n",
      "x [-0.06999596 -0.15261957  0.26338848]\n",
      "obj 0.16842880725321774 sol [ 0.00492715 -0.15356122  0.33986657] 1.304151141660527\n",
      "x [ 6.05363722e-05 -1.44908173e-01  3.81459580e-01]\n",
      "obj 0.16792376022474598 sol [ 6.05363722e-05 -1.44908173e-01  3.81459580e-01] 1.3417029797393263\n",
      "x [-0.01304884 -0.15742495  0.18902662]\n",
      "obj 0.16792376022474598 sol [ 6.05363722e-05 -1.44908173e-01  3.81459580e-01] 1.176141845311889\n",
      "x [ 0.00077715 -0.1495186   0.36503337]\n",
      "obj 0.1675060261602708 sol [ 0.00077715 -0.1495186   0.36503337] 1.0443541705994466\n",
      "x [-0.00959139 -0.14336186  0.16439694]\n",
      "obj 0.1675060261602708 sol [ 0.00077715 -0.1495186   0.36503337] 0.8126036433784075\n",
      "x [-0.04543569 -0.14397431  0.37775184]\n",
      "obj 0.1675060261602708 sol [ 0.00077715 -0.1495186   0.36503337] 0.5044962771499139\n",
      "x [ 0.02088411 -0.15173008  0.28057022]\n",
      "obj 0.1675060261602708 sol [ 0.00077715 -0.1495186   0.36503337] 0.48255990693161077\n",
      "x [-0.03700367 -0.14939543  0.32744958]\n",
      "obj 0.1675060261602708 sol [ 0.00077715 -0.1495186   0.36503337] 0.5231008301915825\n",
      "x [ 0.0018283  -0.14509758  0.26332509]\n",
      "obj 0.1675060261602708 sol [ 0.00077715 -0.1495186   0.36503337] 0.5514808874532495\n",
      "x [-0.0005235  -0.1519906   0.35536834]\n",
      "obj 0.1675060261602708 sol [ 0.00077715 -0.1495186   0.36503337] 0.5441683560595598\n",
      "x [-0.01685241 -0.14719669  0.27158608]\n",
      "obj 0.16718024442411125 sol [-0.01685241 -0.14719669  0.27158608] 0.5490141884368588\n",
      "x [-0.00182054 -0.1527171   0.29375081]\n",
      "obj 0.16718024442411125 sol [-0.01685241 -0.14719669  0.27158608] 0.6132194846051616\n",
      "x [-0.01286044 -0.14740743  0.30342899]\n",
      "obj 0.1668095260248302 sol [-0.01286044 -0.14740743  0.30342899] 0.6890289161205134\n",
      "x [-0.00750994 -0.15690683  0.12111096]\n",
      "obj 0.1668095260248302 sol [-0.01286044 -0.14740743  0.30342899] 0.4759987534086541\n",
      "x [-0.01163481 -0.15123535  0.29220517]\n",
      "obj 0.1668095260248302 sol [-0.01286044 -0.14740743  0.30342899] 0.2720395353004892\n",
      "x [ 0.02567793 -0.14816601  0.27992188]\n",
      "obj 0.1668095260248302 sol [-0.01286044 -0.14740743  0.30342899] 0.3046865651604572\n",
      "x [-0.01463815 -0.14865319  0.28837338]\n",
      "obj 0.166686528657538 sol [-0.01463815 -0.14865319  0.28837338] 0.34212953546826197\n",
      "x [ 0.01185146 -0.15226005  0.25242855]\n",
      "obj 0.166686528657538 sol [-0.01463815 -0.14865319  0.28837338] 0.3732674508559874\n",
      "x [-0.01123349 -0.15078867  0.29255611]\n",
      "obj 0.166686528657538 sol [-0.01463815 -0.14865319  0.28837338] 0.40543389082854\n",
      "x [-0.00158189 -0.14766314  0.27934802]\n",
      "obj 0.166686528657538 sol [-0.01463815 -0.14865319  0.28837338] 0.45454304307930193\n",
      "x [-0.01728705 -0.15280347  0.20670904]\n",
      "obj 0.166686528657538 sol [-0.01463815 -0.14865319  0.28837338] 0.46387313408706027\n",
      "x [-0.00133376 -0.14696374  0.37450702]\n",
      "obj 0.166686528657538 sol [-0.01463815 -0.14865319  0.28837338] 0.2684518180776064\n",
      "x [-0.01229077 -0.15175373  0.24768578]\n",
      "obj 0.166686528657538 sol [-0.01463815 -0.14865319  0.28837338] 0.15725566026072182\n",
      "x [-0.00207837 -0.14812701  0.33738316]\n",
      "obj 0.166686528657538 sol [-0.01463815 -0.14865319  0.28837338] 0.10450204438626218\n",
      "x [-0.01081098 -0.15007879  0.267556  ]\n",
      "obj 0.1666340790774568 sol [-0.01081098 -0.15007879  0.267556  ] 0.07368231362239229\n",
      "x [-0.0016381  -0.14963162  0.31416841]\n",
      "obj 0.1666340790774568 sol [-0.01081098 -0.15007879  0.267556  ] 0.06333815147281274\n",
      "x [-0.01724758 -0.14686874  0.31593721]\n",
      "obj 0.1666340790774568 sol [-0.01081098 -0.15007879  0.267556  ] 0.0712272625862223\n",
      "x [-0.00144624 -0.15107097  0.26123753]\n",
      "obj 0.1666340790774568 sol [-0.01081098 -0.15007879  0.267556  ] 0.05320217444167792\n",
      "x [-0.019335   -0.14938021  0.30737965]\n",
      "obj 0.1666340790774568 sol [-0.01081098 -0.15007879  0.267556  ] 0.040690591735451836\n",
      "x [-0.00562234 -0.14836513  0.28266405]\n",
      "obj 0.1666340790774568 sol [-0.01081098 -0.15007879  0.267556  ] 0.04027917074747822\n",
      "x [-0.00928702 -0.15140365  0.27901062]\n",
      "obj 0.1666340790774568 sol [-0.01081098 -0.15007879  0.267556  ] 0.04519393913100691\n",
      "x [-0.00924201 -0.14898462  0.2805325 ]\n",
      "obj 0.16663369352352425 sol [-0.00924201 -0.14898462  0.2805325 ] 0.05082233649461937\n",
      "x [-0.00565468 -0.15052236  0.2892906 ]\n",
      "obj 0.16663369352352425 sol [-0.00924201 -0.14898462  0.2805325 ] 0.056484790661717924\n",
      "x [-0.01502461 -0.14991075  0.27414404]\n",
      "obj 0.16663369352352425 sol [-0.00924201 -0.14898462  0.2805325 ] 0.061480626782326804\n",
      "x [-0.00230268 -0.14953039  0.28150242]\n",
      "obj 0.16663369352352425 sol [-0.00924201 -0.14898462  0.2805325 ] 0.06867839300144035\n",
      "x [-0.01317402 -0.14864114  0.30785674]\n",
      "obj 0.16663369352352425 sol [-0.00924201 -0.14898462  0.2805325 ] 0.07101224495117116\n",
      "x [-0.00820217 -0.15153849  0.24377037]\n",
      "obj 0.16663369352352425 sol [-0.00924201 -0.14898462  0.2805325 ] 0.04292521405532271\n",
      "x [-0.00894226 -0.14931362  0.29552264]\n",
      "obj 0.16662332635322424 sol [-0.00894226 -0.14931362  0.29552264] 0.02418618748360439\n",
      "x [-0.00793195 -0.15056888  0.25751948]\n",
      "obj 0.16662332635322424 sol [-0.00894226 -0.14931362  0.29552264] 0.014211298283997618\n",
      "x [-0.00906032 -0.14940796  0.28672288]\n",
      "obj 0.1666062855975311 sol [-0.00906032 -0.14940796  0.28672288] 0.008312165113858115\n",
      "x [-0.0062855  -0.15125248  0.26759773]\n",
      "obj 0.1666062855975311 sol [-0.00906032 -0.14940796  0.28672288] 0.0060592443466015175\n",
      "x [-0.00910753 -0.1496495   0.27151617]\n",
      "obj 0.1666062855975311 sol [-0.00906032 -0.14940796  0.28672288] 0.006678462076189872\n",
      "x [-0.00792211 -0.15014219  0.28613857]\n",
      "obj 0.1666062855975311 sol [-0.00906032 -0.14940796  0.28672288] 0.005588940046044895\n",
      "x [-0.00765008 -0.14914684  0.28450443]\n",
      "obj 0.1666062855975311 sol [-0.00906032 -0.14940796  0.28672288] 0.006263524035334899\n",
      "x [-0.01758245 -0.15006814  0.27555265]\n",
      "obj 0.1666062855975311 sol [-0.00906032 -0.14940796  0.28672288] 0.006325254695893502\n",
      "x [-0.00774487 -0.14986599  0.2801409 ]\n",
      "obj 0.16660471530990198 sol [-0.00774487 -0.14986599  0.2801409 ] 0.006926442951028362\n"
     ]
    },
    {
     "name": "stdout",
     "output_type": "stream",
     "text": [
      "x [-0.01506703 -0.14937199  0.2845757 ]\n",
      "obj 0.16660471530990198 sol [-0.00774487 -0.14986599  0.2801409 ] 0.007615241150548973\n",
      "x [-0.00910455 -0.14927023  0.28614357]\n",
      "obj 0.16660471530990198 sol [-0.00774487 -0.14986599  0.2801409 ] 0.0085450224971183\n",
      "x [-0.00911321 -0.15055722  0.26988383]\n",
      "obj 0.16660471530990198 sol [-0.00774487 -0.14986599  0.2801409 ] 0.007233737958622904\n",
      "x [-0.00732127 -0.1496594   0.28595698]\n",
      "obj 0.16660471530990198 sol [-0.00774487 -0.14986599  0.2801409 ] 0.0058128390800779315\n",
      "x [-0.01060623 -0.14968079  0.27337099]\n",
      "obj 0.16660471530990198 sol [-0.00774487 -0.14986599  0.2801409 ] 0.005113780361982295\n",
      "x [-0.00963881 -0.14977476  0.2858743 ]\n",
      "obj 0.16660471530990198 sol [-0.00774487 -0.14986599  0.2801409 ] 0.004346008609237356\n",
      "x [-0.00578621 -0.14968942  0.27433912]\n",
      "obj 0.16660471530990198 sol [-0.00774487 -0.14986599  0.2801409 ] 0.003691716075597827\n",
      "x [-0.00922405 -0.14965282  0.28292833]\n",
      "obj 0.16660374358823454 sol [-0.00922405 -0.14965282  0.28292833] 0.003489210500248592\n",
      "x [-0.00618709 -0.15007464  0.27418895]\n",
      "obj 0.16660374358823454 sol [-0.00922405 -0.14965282  0.28292833] 0.0032379722035622742\n",
      "x [-0.0081521  -0.1494286   0.28316278]\n",
      "obj 0.16660374358823454 sol [-0.00922405 -0.14965282  0.28292833] 0.002917952443567593\n",
      "x [-0.0091775  -0.15030078  0.27664671]\n",
      "obj 0.16660374358823454 sol [-0.00922405 -0.14965282  0.28292833] 0.002900563235527754\n",
      "x [-0.00865137 -0.1495975   0.28292464]\n",
      "obj 0.1666033149247119 sol [-0.00865137 -0.1495975   0.28292464] 0.002908421723423277\n",
      "x [-0.00962313 -0.15009078  0.27175766]\n",
      "obj 0.1666033149247119 sol [-0.00865137 -0.1495975   0.28292464] 0.0021496621085902064\n",
      "x [-0.00776748 -0.15001019  0.28265808]\n",
      "obj 0.1666033149247119 sol [-0.00865137 -0.1495975   0.28292464] 0.0013489971837668277\n",
      "x [-0.00956648 -0.14963042  0.27838188]\n",
      "obj 0.1666033149247119 sol [-0.00865137 -0.1495975   0.28292464] 0.0013530489458057828\n",
      "x [-0.00793557 -0.14975976  0.28379533]\n",
      "obj 0.1666033149247119 sol [-0.00865137 -0.1495975   0.28292464] 0.0012584310796366956\n",
      "x [-0.00935078 -0.14969563  0.27974201]\n",
      "obj 0.1666033149247119 sol [-0.00865137 -0.1495975   0.28292464] 0.001267870181170235\n",
      "x [-0.00733443 -0.14980896  0.27938107]\n",
      "obj 0.1666033149247119 sol [-0.00865137 -0.1495975   0.28292464] 0.0014251814472210386\n",
      "x [-0.00969062 -0.14970802  0.28606168]\n",
      "obj 0.1666033149247119 sol [-0.00865137 -0.1495975   0.28292464] 0.0012016544361668254\n",
      "x [-0.00819747 -0.14967376  0.28110614]\n",
      "obj 0.1666033149247119 sol [-0.00865137 -0.1495975   0.28292464] 0.0011308445534583622\n",
      "x [-0.00936972 -0.14995452  0.28040438]\n",
      "obj 0.1666033149247119 sol [-0.00865137 -0.1495975   0.28292464] 0.0012677679585569456\n",
      "x [-0.00912277 -0.14948712  0.28478293]\n",
      "obj 0.1666033149247119 sol [-0.00865137 -0.1495975   0.28292464] 0.0012536932817641675\n",
      "x [-0.00817419 -0.1499894   0.27670214]\n",
      "obj 0.1666033149247119 sol [-0.00865137 -0.1495975   0.28292464] 0.000822711561687634\n",
      "x [-0.00878218 -0.14963026  0.28329006]\n",
      "obj 0.1666033149247119 sol [-0.00865137 -0.1495975   0.28292464] 0.0005349439618567829\n",
      "x [-0.00863549 -0.14980481  0.27765408]\n",
      "obj 0.1666033149247119 sol [-0.00865137 -0.1495975   0.28292464] 0.0003159337591565941\n",
      "x [-0.00818965 -0.14982779  0.28152118]\n",
      "obj 0.1666033149247119 sol [-0.00865137 -0.1495975   0.28292464] 0.0002208353826947264\n",
      "x [-0.00926701 -0.14956868  0.281725  ]\n",
      "obj 0.1666033149247119 sol [-0.00865137 -0.1495975   0.28292464] 0.00024806592968131767\n",
      "x [-0.00813813 -0.14969375  0.28206952]\n",
      "obj 0.1666033149247119 sol [-0.00865137 -0.1495975   0.28292464] 0.0002780059454681715\n",
      "x [-0.00936347 -0.14989449  0.28014276]\n",
      "obj 0.1666033149247119 sol [-0.00865137 -0.1495975   0.28292464] 0.0002793450308308901\n",
      "x [-0.00860613 -0.14968704  0.28107332]\n",
      "obj 0.16660306056834126 sol [-0.00860613 -0.14968704  0.28107332] 0.00030646954472727254\n",
      "x [-0.00875396 -0.14985543  0.28148341]\n",
      "obj 0.16660306056834126 sol [-0.00860613 -0.14968704  0.28107332] 0.000343264708356913\n",
      "x [-0.00869042 -0.1497083   0.28159354]\n",
      "obj 0.16660294756637833 sol [-0.00869042 -0.1497083   0.28159354] 0.0003860636293178713\n",
      "x [-0.00810486 -0.14984842  0.27777972]\n",
      "obj 0.16660294756637833 sol [-0.00869042 -0.1497083   0.28159354] 0.0003034139584006908\n",
      "x [-0.00859402 -0.14964411  0.28152045]\n",
      "obj 0.16660294756637833 sol [-0.00869042 -0.1497083   0.28159354] 0.00021540265820096865\n",
      "x [-0.00871283 -0.14980921  0.28009911]\n",
      "obj 0.16660294756637833 sol [-0.00869042 -0.1497083   0.28159354] 0.00022414606104040338\n",
      "x [-0.00827385 -0.14965626  0.28360456]\n",
      "obj 0.16660294756637833 sol [-0.00869042 -0.1497083   0.28159354] 0.00014157093716675052\n",
      "x [-0.00917638 -0.14966264  0.28149799]\n",
      "obj 0.16660294756637833 sol [-0.00869042 -0.1497083   0.28159354] 0.00011932879967529322\n",
      "x [-0.00822006 -0.14976535  0.28101238]\n",
      "obj 0.16660294756637833 sol [-0.00869042 -0.1497083   0.28159354] 0.00013212250875453989\n",
      "x [-0.00892535 -0.14967056  0.28184176]\n",
      "obj 0.16660294756637833 sol [-0.00869042 -0.1497083   0.28159354] 0.00014244698382506456\n",
      "x [-0.00845367 -0.1497688   0.28054157]\n",
      "obj 0.16660294756637833 sol [-0.00869042 -0.1497083   0.28159354] 0.0001450383975089835\n",
      "x [-0.00859911 -0.14965591  0.28287359]\n",
      "obj 0.16660294756637833 sol [-0.00869042 -0.1497083   0.28159354] 0.0001142232161592535\n",
      "x [-0.00890079 -0.14973364  0.28022749]\n",
      "obj 0.16660294756637833 sol [-0.00869042 -0.1497083   0.28159354] 6.548471822936873e-05\n"
     ]
    },
    {
     "data": {
      "text/plain": [
       "(array([-0.00869042, -0.1497083 ,  0.28159354]),\n",
       " 0.16660294756637833,\n",
       " array([-1.12627248e-04, -7.86575858e-04,  5.90695178e-05]))"
      ]
     },
     "execution_count": 254,
     "metadata": {},
     "output_type": "execute_result"
    }
   ],
   "source": [
    "ellipsoid_constr_method(f_lexp, f_constr, grad_flexp, grad_f_constr, x0, 400, 2000000, para)"
   ]
  },
  {
   "cell_type": "code",
   "execution_count": 149,
   "id": "076aec58",
   "metadata": {},
   "outputs": [
    {
     "data": {
      "text/plain": [
       "False"
      ]
     },
     "execution_count": 149,
     "metadata": {},
     "output_type": "execute_result"
    }
   ],
   "source": [
    "-0.0004344>=0"
   ]
  },
  {
   "cell_type": "code",
   "execution_count": 14,
   "id": "5cdf097d",
   "metadata": {},
   "outputs": [
    {
     "data": {
      "text/plain": [
       "40.88999999999987"
      ]
     },
     "execution_count": 14,
     "metadata": {},
     "output_type": "execute_result"
    }
   ],
   "source": [
    "-1970.35-1978.42+3989.66"
   ]
  },
  {
   "cell_type": "code",
   "execution_count": 22,
   "id": "12df9465",
   "metadata": {},
   "outputs": [
    {
     "data": {
      "text/plain": [
       "3.569999999999993"
      ]
     },
     "execution_count": 22,
     "metadata": {},
     "output_type": "execute_result"
    }
   ],
   "source": [
    "(58.955-58.36)*6"
   ]
  },
  {
   "cell_type": "code",
   "execution_count": 20,
   "id": "50b4e012",
   "metadata": {},
   "outputs": [
    {
     "data": {
      "text/plain": [
       "4.7698799999999775"
      ]
     },
     "execution_count": 20,
     "metadata": {},
     "output_type": "execute_result"
    }
   ],
   "source": [
    "(377.75-372.85)-372.85*0.0002-277.75*0.0002"
   ]
  },
  {
   "cell_type": "code",
   "execution_count": 21,
   "id": "0604e815",
   "metadata": {},
   "outputs": [
    {
     "data": {
      "text/plain": [
       "6.388793694311173"
      ]
     },
     "execution_count": 21,
     "metadata": {},
     "output_type": "execute_result"
    }
   ],
   "source": [
    "372.85/58.36"
   ]
  }
 ],
 "metadata": {
  "kernelspec": {
   "display_name": "Python [conda env:base] *",
   "language": "python",
   "name": "conda-base-py"
  },
  "language_info": {
   "codemirror_mode": {
    "name": "ipython",
    "version": 3
   },
   "file_extension": ".py",
   "mimetype": "text/x-python",
   "name": "python",
   "nbconvert_exporter": "python",
   "pygments_lexer": "ipython3",
   "version": "3.12.3"
  }
 },
 "nbformat": 4,
 "nbformat_minor": 5
}
