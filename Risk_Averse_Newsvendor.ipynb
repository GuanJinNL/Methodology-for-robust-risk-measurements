{
 "cells": [
  {
   "cell_type": "code",
   "execution_count": 15,
   "id": "083645d9",
   "metadata": {},
   "outputs": [],
   "source": [
    "import numpy as np\n",
    "import matplotlib.pyplot as plt\n",
    "import cvxpy as cp\n",
    "import mosek\n",
    "from scipy.stats import lognorm"
   ]
  },
  {
   "cell_type": "code",
   "execution_count": 7,
   "id": "f06afc1b-89f9-4c4d-9d9c-ff2f077a5eb3",
   "metadata": {},
   "outputs": [],
   "source": [
    "def profit_vec(y, D, p, c, s, l):\n",
    "    return p * np.minimum(y, D) - c * y + s * np.maximum(y - D, 0) - l * np.maximum(D - y, 0)\n",
    "\n",
    "def dprofit_vec(y, D, p, c, s, l):\n",
    "    return np.where(D >= y, p + l - c, s - c)\n",
    "\n",
    "def y_opt(alpha,p,c,s,l, mu,sigma):\n",
    "    E = c-s\n",
    "    U = p+l-c\n",
    "    V = p-c\n",
    "    F1 = lognorm.ppf(U*alpha/(E+U), sigma, scale=np.exp(mu))\n",
    "    F2 = lognorm.ppf((E*(1-alpha)+U)/(E+U), sigma, scale=np.exp(mu))\n",
    "    return((E+V)/(E+U)*F1+(U-V)/(E+U)*F2)"
   ]
  },
  {
   "cell_type": "code",
   "execution_count": 9,
   "id": "4029c0f7-9715-4820-a597-34c4e8c83704",
   "metadata": {},
   "outputs": [],
   "source": [
    "def f_explog_vec(x, a, b):\n",
    "    e = np.exp(1)\n",
    "    c1 = 1 / (b**2 * (a**2 + a) * np.exp(a - 1))\n",
    "    c2 = 1 - np.exp(a) * (a * b + 1) * c1\n",
    "    c3 = -np.exp(a + 1) * c1\n",
    "\n",
    "    output = np.empty_like(x, dtype=float)\n",
    "    pos = x > 0\n",
    "    term = (x[pos] + e) * np.exp(a * np.log(x[pos] + e)**b)\n",
    "    output[pos] = c1 * term + c2 * x[pos] + c3\n",
    "    output[~pos] = np.exp(x[~pos]) - 1\n",
    "\n",
    "    return output\n",
    "\n",
    "def df_explog_vec(x, a, b):\n",
    "    e = np.exp(1)\n",
    "    \n",
    "    c1 = 1 / (b**2 * (a**2 + a) * np.exp(a - 1))\n",
    "    c2 = 1 - np.exp(a) * (a * b + 1) * c1\n",
    "\n",
    "    output = np.empty_like(x, dtype=float)\n",
    "    pos = x > 0\n",
    "\n",
    "    term = np.exp(a * (np.log(x[pos] + e))**b) * (a * b * (np.log(x[pos] + e))**(b - 1) + 1)\n",
    "    output[pos] = c1 * term + c2\n",
    "    output[~pos] = np.exp(x[~pos])\n",
    "\n",
    "    return output\n",
    "\n",
    "def ddf_explog_vec(x, a, b):\n",
    "    e = np.exp(1)\n",
    "    \n",
    "    c1 = 1 / (b**2 * (a**2 + a) * np.exp(a - 1))\n",
    "\n",
    "    output = np.empty_like(x, dtype=float)\n",
    "    pos = x > 0\n",
    "\n",
    "    term1 = a * b / (x[pos] + e) * np.exp(a * np.log(x[pos] + e)**b)\n",
    "    term2 = (b - 1) * np.log(x[pos] + e)**(b - 2) + np.log(x[pos] + e)**(b - 1) + a * b * np.log(x[pos] + e)**(2 * b - 2)\n",
    "    output[pos] = c1 * term1 * term2\n",
    "    output[~pos] = np.exp(x[~pos])\n",
    "\n",
    "    return output\n",
    "\n",
    "def CVaR_vec(x,alpha):\n",
    "    return np.maximum(1/alpha*x,0)\n",
    "\n",
    "def dCVaR_vec(x, alpha):\n",
    "    return np.where(x > 0, 1 / alpha, 0)\n",
    "\n",
    "def cvar_fast(alpha,x,f):\n",
    "    n = len(f)\n",
    "    order = np.argsort(x)\n",
    "    x = np.sort(x)\n",
    "    f = f[order]\n",
    "    csum = np.cumsum(f)\n",
    "    if csum[0] >= alpha:\n",
    "        return(-x[0])\n",
    "    else:\n",
    "        k_max = np.max(np.where((csum < alpha)==True))\n",
    "    Ex = np.sum(np.multiply(x[0:k_max+1],f[0:k_max+1]))\n",
    "    last = (alpha - csum[k_max])*x[k_max+1]\n",
    "    return(-1/alpha*(Ex+last))"
   ]
  },
  {
   "cell_type": "code",
   "execution_count": 11,
   "id": "e99db1e7-3a5a-46bd-a5da-dab4aca00d52",
   "metadata": {},
   "outputs": [],
   "source": [
    "def ellipsoid_explog_vec(x0, max_iter,r_e,para):\n",
    "    n = len(x0)\n",
    "    x = x0\n",
    "    P = np.identity(n)*r_e\n",
    "    a,b,alpha,r,c,p,s,l,D = para\n",
    "    f_best = np.inf\n",
    "    x_opt = x0\n",
    "    N = len(D)\n",
    "    for steps in range(max_iter):\n",
    "        if x[2] >= 0:\n",
    "            the1 = x[0]\n",
    "            the2 = x[1]\n",
    "            lbda = x[2]\n",
    "            y = x[3]\n",
    "            g = np.zeros(4)\n",
    "            arg = CVaR_vec(the2-profit_vec(y,D,p,c,s,l),alpha)\n",
    "            f_obj = np.sum(lbda * f_explog_vec((arg+the1)/lbda,a,b))/N -the1-the2+lbda*r\n",
    "            s1 = np.sum(df_explog_vec((arg+the1)/lbda,a,b))\n",
    "            s2 = np.sum(df_explog_vec((arg+the1)/lbda,a,b)* dCVaR_vec(the2-profit_vec(y,D,p,c,s,l),alpha))\n",
    "            s3 = np.sum(f_explog_vec((arg+the1)/lbda,a,b) - df_explog_vec((arg+the1)/lbda,a,b) * ((arg+the1)/lbda))\n",
    "            s4 = np.sum(df_explog_vec((arg+the1)/lbda,a,b) * dCVaR_vec(the2-profit_vec(y,D,p,c,s,l),alpha)* -dprofit_vec(y,D,p,c,s,l))\n",
    "            \n",
    "            g[0] = -1 + s1/N\n",
    "            g[1] = -1 + s2/N\n",
    "            g[2] = r + s3/N\n",
    "            g[3] = s4/N\n",
    "            n_g =np.sqrt((g.dot(P)).dot(g)) \n",
    "            g_n = g/n_g\n",
    "            if f_obj < f_best and x[2] >= 0:\n",
    "                f_best = f_obj\n",
    "                x_opt = x\n",
    "                x_grad = g\n",
    "            #print('obj', f_best, 'sol', x_opt, np.max(P))\n",
    "        else:\n",
    "            g = np.array([0,0,-1,0])\n",
    "            #print('constr_g', (g.dot(P)).dot(g))\n",
    "            n_g =np.sqrt((g.dot(P)).dot(g)) \n",
    "            g_n = g/n_g\n",
    "            \n",
    "        alfa = 0\n",
    "        U = g_n.dot(P)\n",
    "        c1 = (n**2/(n**2-1)) * (1-alfa**2)\n",
    "        c2 = (1+n*alfa)/((n+1)*(1+alfa))*2\n",
    "        x = x - (1+n*alfa)/(n+1)* P.dot(g_n)\n",
    "        P = c1 * (P - c2 * np.outer(U,U))\n",
    "        \n",
    "        \n",
    "        if np.max(P) <= 1e-6:\n",
    "            print('obj', f_best, 'sol', x_opt,'grad', x_grad,'P-norm', np.max(P))\n",
    "            return(x_opt, f_best, x_grad)\n",
    "    \n",
    "    print('max iterations reached')\n",
    "\n",
    "    return x_opt, f_best\n",
    "                \n",
    "    \n",
    "            \n",
    "    "
   ]
  },
  {
   "cell_type": "code",
   "execution_count": 41,
   "id": "280289c5",
   "metadata": {},
   "outputs": [],
   "source": [
    "np.random.seed(3)\n",
    "c = 4\n",
    "p = 8\n",
    "s = 2\n",
    "l = 4\n",
    "mu = np.log(1)\n",
    "sigma = 1\n",
    "alpha = 0.05\n",
    "demand = np.random.lognormal(mu,sigma,size= 50000)\n",
    "frac = alpha* (p-c)/(p-s)\n",
    "y_nom = y_opt(alpha,p,c,s,l, mu,sigma)\n"
   ]
  },
  {
   "cell_type": "code",
   "execution_count": 35,
   "id": "f4e32fde",
   "metadata": {},
   "outputs": [
    {
     "data": {
      "text/plain": [
       "1.1422811637881773"
      ]
     },
     "execution_count": 35,
     "metadata": {},
     "output_type": "execute_result"
    }
   ],
   "source": [
    "y_nom"
   ]
  },
  {
   "cell_type": "code",
   "execution_count": 47,
   "id": "282313b0",
   "metadata": {},
   "outputs": [],
   "source": [
    "a = 1/(2*(sigma*2)**2)\n",
    "b = 2\n",
    "alpha = 0.05\n",
    "x0 = np.array([-5,-12,1,4.2])\n"
   ]
  },
  {
   "cell_type": "code",
   "execution_count": 49,
   "id": "cfc4e614-9743-4a54-8250-771ccc74fd98",
   "metadata": {},
   "outputs": [
    {
     "name": "stdout",
     "output_type": "stream",
     "text": [
      "obj 15.381877670665306 sol [  -4.01051444   -7.98469211 1667.31656559    4.51401351] grad [-3.10994919e-09 -2.42425686e-04 -4.79667688e-11 -4.84856850e-04] P-norm 8.85102677187564e-07\n",
      "obj 19.336531750249648 sol [ -3.21649579  -9.14285264 688.4711152    5.09253457] grad [ 5.24948307e-10  1.73738273e-04  1.28424274e-09 -1.15542929e-03] P-norm 9.403167996767465e-07\n",
      "obj 22.118953470096127 sol [ -2.80880627  -9.93547731 464.10541743   5.4881411 ] grad [-1.28508688e-08  1.37224365e-04 -5.05008644e-10 -2.62549445e-03] P-norm 8.510393134046333e-07\n",
      "obj 25.826424992666897 sol [ -2.28845052 -11.29844039 304.97937555   6.16789182] grad [-2.22637431e-09 -9.42497970e-05  3.22002806e-09 -3.16382172e-04] P-norm 9.408162565670662e-07\n",
      "obj 32.47602959522528 sol [ -1.59660492 -14.08190082 170.14381751   7.55703006] grad [-3.34106494e-08 -6.76296062e-05 -2.23024134e-08 -1.05902192e-03] P-norm 7.904439058312365e-07\n",
      "obj 39.1856483335489 sol [ -1.20412827 -16.76439385 109.3802158    8.89368722] grad [ 2.26542183e-08 -7.88163156e-05 -1.90244055e-07  1.47183591e-03] P-norm 9.947283633999165e-07\n",
      "obj 47.537156261872425 sol [ -0.83729091 -22.00224503  65.26672394  11.50551376] grad [ 1.84853631e-07 -2.76127161e-04  2.36718348e-07 -5.50895583e-04] P-norm 9.744846488902267e-07\n",
      "obj 56.92888877046768 sol [ -0.52824595 -31.50873181  33.91899295  16.24420414] grad [-1.10458882e-06 -2.01846307e-04  1.28094991e-07 -4.03325998e-04] P-norm 8.762062011771285e-07\n",
      "obj 59.81142298060321 sol [ -0.42211099 -37.27042798  24.43295088  19.11486165] grad [ 2.59175995e-07  3.01588556e-04 -5.14414596e-07  6.02113250e-04] P-norm 9.739119196092427e-07\n"
     ]
    }
   ],
   "source": [
    "radius = np.array([0.001, 0.005, 0.01, 0.02, 0.05, 0.1,0.2,0.4, 0.5])\n",
    "y_rob = np.zeros(len(radius))\n",
    "for i in range(len(radius)):\n",
    "    para = [a,b,alpha,radius[i],c,p,s,l,demand]\n",
    "    y_rob[i] = ellipsoid_explog_vec(x0, 1000, 100000,para)[0][3]"
   ]
  },
  {
   "cell_type": "code",
   "execution_count": 51,
   "id": "da22723a-b234-4f57-b0a2-210b5566884f",
   "metadata": {},
   "outputs": [
    {
     "data": {
      "text/plain": [
       "array([ 4.51401351,  5.09253457,  5.4881411 ,  6.16789182,  7.55703006,\n",
       "        8.89368722, 11.50551376, 16.24420414, 19.11486165])"
      ]
     },
     "execution_count": 51,
     "metadata": {},
     "output_type": "execute_result"
    }
   ],
   "source": [
    "y_rob"
   ]
  }
 ],
 "metadata": {
  "kernelspec": {
   "display_name": "Python [conda env:base] *",
   "language": "python",
   "name": "conda-base-py"
  },
  "language_info": {
   "codemirror_mode": {
    "name": "ipython",
    "version": 3
   },
   "file_extension": ".py",
   "mimetype": "text/x-python",
   "name": "python",
   "nbconvert_exporter": "python",
   "pygments_lexer": "ipython3",
   "version": "3.12.3"
  }
 },
 "nbformat": 4,
 "nbformat_minor": 5
}
