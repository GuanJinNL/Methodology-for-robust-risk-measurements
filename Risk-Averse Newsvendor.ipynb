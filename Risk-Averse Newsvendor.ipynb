{
 "cells": [
  {
   "cell_type": "code",
   "execution_count": 259,
   "id": "083645d9",
   "metadata": {},
   "outputs": [],
   "source": [
    "import numpy as np\n",
    "import matplotlib.pyplot as plt\n",
    "from scipy.stats import norm\n",
    "import cvxpy as cp\n",
    "import mosek\n",
    "from scipy.stats import lognorm\n",
    "import time\n",
    "from scipy.optimize import minimize"
   ]
  },
  {
   "cell_type": "code",
   "execution_count": 66,
   "id": "82d55dae",
   "metadata": {},
   "outputs": [],
   "source": [
    "c = 4\n",
    "p = 8\n",
    "s = 2\n",
    "l = 4\n",
    "\n",
    "def profit(y,d):\n",
    "    return(p*np.minimum(y,d) - c* y + s*np.maximum(y-d,0)- l*np.maximum(d-y,0))\n",
    "\n",
    "def y_opt(alpha,p,c,s,l, mu,sigma):\n",
    "    E = c-s\n",
    "    U = p+l-c\n",
    "    V = p-c\n",
    "    F1 = lognorm.ppf(U*alpha/(E+U), sigma, scale=np.exp(mu))\n",
    "    F2 = lognorm.ppf((E*(1-alpha)+U)/(E+U), sigma, scale=np.exp(mu))\n",
    "    return((E+V)/(E+U)*F1+(U-V)/(E+U)*F2)\n",
    "    \n"
   ]
  },
  {
   "cell_type": "code",
   "execution_count": 57,
   "id": "c8c26e3f",
   "metadata": {},
   "outputs": [],
   "source": [
    "def f_explog(x,a,b):   #### default: a=0.1, b=2\n",
    "    if x > 0 :\n",
    "        e = np.exp(1)\n",
    "        ### constants calculations\n",
    "        \n",
    "        c1 = 1/(b**2*(a**2+a)*np.exp(a-1))\n",
    "        c2 = 1 - np.exp(a)*(a*b+1)*c1\n",
    "        c3 = -np.exp(a+1)*c1\n",
    "        term = (x+e)*np.exp(a*np.log(x+e)**b) \n",
    "        return(c1*term + c2*x + c3)\n",
    "    else:\n",
    "        return(np.exp(x)-1)\n",
    "    \n",
    "def df_explog(x,a,b):\n",
    "    if x > 0:\n",
    "        e = np.exp(1)\n",
    "        ### constants calculations\n",
    "        \n",
    "        c1 = 1/(b**2*(a**2+a)*np.exp(a-1))\n",
    "        c2 = 1 - np.exp(a)*(a*b+1)*c1\n",
    "        term = np.exp(a*(np.log(x+e))**b)*(a*b*(np.log(x+e))**(b-1)+1)\n",
    "        return(c1*term + c2)\n",
    "    else:\n",
    "        return(np.exp(x))\n",
    "    \n",
    "    \n",
    "def ddf_explog(x,a,b):\n",
    "    if x > 0:\n",
    "        e = np.exp(1)\n",
    "        c1 = 1/(b**2*(a**2+a)*np.exp(a-1))\n",
    "        \n",
    "        term1 = a*b/(x+e)*np.exp(a*np.log(x+e)**b)\n",
    "        term2 = (b-1)*np.log(x+e)**(b-2) + np.log(x+e)**(b-1) + a*b*np.log(x+e)**(2*b-2)\n",
    "        return(c1*term1*term2)\n",
    "    else:\n",
    "        return(np.exp(x))\n",
    "    \n",
    "    \n",
    "def CVaR(x,alpha):\n",
    "    return np.maximum(1/alpha*x,0)\n",
    "\n",
    "def dCVaR(x,alpha):\n",
    "    if x > 0:\n",
    "        return(1/alpha)\n",
    "    else:\n",
    "        return(0)\n",
    "\n",
    "def KL(x):\n",
    "    return np.exp(x)-1\n",
    "\n",
    "    \n",
    "    \n",
    "def log_bar(x):\n",
    "    if x>0:\n",
    "        return(-np.log(x))\n",
    "    else:\n",
    "        return np.inf\n",
    "    \n",
    "def cvar_fast(alpha,x,f):\n",
    "    n = len(f)\n",
    "    order = np.argsort(x)\n",
    "    x = np.sort(x)\n",
    "    f = f[order]\n",
    "    csum = np.cumsum(f)\n",
    "    if csum[0] >= alpha:\n",
    "        return(-x[0])\n",
    "    else:\n",
    "        k_max = np.max(np.where((csum < alpha)==True))\n",
    "    Ex = np.sum(np.multiply(x[0:k_max+1],f[0:k_max+1]))\n",
    "    last = (alpha - csum[k_max])*x[k_max+1]\n",
    "    return(-1/alpha*(Ex+last))\n",
    "    \n"
   ]
  },
  {
   "cell_type": "code",
   "execution_count": 61,
   "id": "bac354f0",
   "metadata": {},
   "outputs": [
    {
     "data": {
      "text/plain": [
       "1.25"
      ]
     },
     "execution_count": 61,
     "metadata": {},
     "output_type": "execute_result"
    }
   ],
   "source": [
    "X = np.arange(-2,6,1)\n",
    "p_X = np.zeros(len(X))+ 1/len(X)\n",
    "cvar_fast(0.3,X,p_X)"
   ]
  },
  {
   "cell_type": "code",
   "execution_count": 56,
   "id": "c4565f2f",
   "metadata": {},
   "outputs": [
    {
     "data": {
      "text/plain": [
       "array([0, 1, 2, 3, 4, 5, 6, 7], dtype=int64)"
      ]
     },
     "execution_count": 56,
     "metadata": {},
     "output_type": "execute_result"
    }
   ],
   "source": []
  },
  {
   "cell_type": "code",
   "execution_count": 8,
   "id": "3dd53703",
   "metadata": {},
   "outputs": [],
   "source": [
    "\n",
    "def f_lexp(x,X,alpha,a,b,r):\n",
    "    the1 = x[0]\n",
    "    the2 = x[1]\n",
    "    lbda = x[2]\n",
    "    N = len(X)\n",
    "    s1 = 0\n",
    "    for i in range(N):\n",
    "        arg = CVaR(the2-X[i],alpha)\n",
    "        s1 = s1 + lbda * f_explog((arg+the1)/lbda,a,b)\n",
    "    return(s1/N-the1-the2+lbda*r)\n",
    "\n",
    "def grad_flexp(x,X,alpha,a,b,r):\n",
    "    the1 = x[0]\n",
    "    the2 = x[1]\n",
    "    lbda = x[2]\n",
    "    N = len(X)\n",
    "    grad = np.zeros(3)\n",
    "    s1 = 0\n",
    "    s2 = 0\n",
    "    s3 = 0\n",
    "    for i in range(N):\n",
    "        arg = CVaR(the2-X[i],alpha)\n",
    "        s1 = s1 + df_explog((arg+the1)/lbda,a,b)\n",
    "        s2 = s2 + df_explog((arg+the1)/lbda,a,b)* dCVaR(the2-X[i],alpha)\n",
    "        s3 = s3 + f_explog((arg+the1)/lbda,a,b) - df_explog((arg+the1)/lbda,a,b) * ((arg+the1)/lbda)\n",
    "    \n",
    "    grad[0] = -1 + s1/N\n",
    "    grad[1] = -1 + s2/N\n",
    "    grad[2] = r + s3/N\n",
    "    return(grad)\n",
    "\n",
    "def f_constr(x):\n",
    "    return -x[2]\n",
    "\n",
    "def grad_f_constr(x):\n",
    "    return np.array([0,0,-1])"
   ]
  },
  {
   "cell_type": "code",
   "execution_count": 9,
   "id": "e5e2cf3d",
   "metadata": {},
   "outputs": [],
   "source": [
    "def kl_cvar_ball(alpha,x,p,r):\n",
    "    n = len(x)\n",
    "    theta_1 = cp.Variable(1)\n",
    "    theta_2 = cp.Variable(1)\n",
    "    lbda = cp.Variable(1, nonneg = True)\n",
    "    t = cp.Variable(n)\n",
    "    w = cp.Variable(n)\n",
    "    s = cp.Variable(n)\n",
    "    constraints = []\n",
    "    som = 0\n",
    "    for i in range(n):\n",
    "        #if wbln_factor(-x[i],0,np.sqrt(1.5)) >= 1e-5:\n",
    "        constraints.append(theta_1 + cp.pos(1/alpha*(theta_2-x[i])) <= s[i])\n",
    "        constraints.append((w[i] - lbda) <= t[i])   #2/(-x[i])*\n",
    "        constraints.append(cp.kl_div(lbda,w[i])+lbda+s[i]-w[i]<= 0)\n",
    "        som = som + t[i]*p[i]\n",
    "    obj = cp.Minimize(-theta_1-theta_2+lbda*r+som)\n",
    "    prob = cp.Problem(obj,constraints)\n",
    "    prob.solve(solver = cp.MOSEK)\n",
    "    return(prob.value, theta_1.value, theta_2.value, lbda.value)"
   ]
  },
  {
   "cell_type": "code",
   "execution_count": 200,
   "id": "1efbd0ac",
   "metadata": {},
   "outputs": [],
   "source": [
    "def ellipsoid_constr_method(f_obj, f_constr, grad_f, grad_f_constr, x0, max_iter, r_e, para):\n",
    "    n = len(x0)\n",
    "    x = x0\n",
    "    P = np.identity(n)*r_e\n",
    "    a,b,alpha,r,X = para\n",
    "    f_best = f_obj(x0,X,alpha,a,b,r)\n",
    "    x_opt = x0\n",
    "    \n",
    "    \n",
    "    for i in range(max_iter):\n",
    "        # Calculate the subgradient at the current point.\n",
    "        if x[2] >= 0:\n",
    "            g = grad_f(x,X,alpha,a,b,r)\n",
    "            n_g =np.sqrt((g.dot(P)).dot(g)) \n",
    "            g_n = g/n_g\n",
    "            alfa = (f_obj(x,X,alpha,a,b,r)-f_best)/n_g\n",
    "        else:\n",
    "            g = grad_f_constr(x)\n",
    "            #print('constr_g', (g.dot(P)).dot(g))\n",
    "            n_g =np.sqrt((g.dot(P)).dot(g)) \n",
    "            g_n = g/n_g\n",
    "            alfa = (f_constr(x))/n_g\n",
    "        \n",
    "        # normalize subgradient.\n",
    "        alfa = 0\n",
    "    \n",
    "        # Update the ellipsoid parameters.\n",
    "        U = g_n.dot(P)\n",
    "        c1 = (n**2/(n**2-1)) * (1-alfa**2)\n",
    "        c2 = (1+n*alfa)/((n+1)*(1+alfa))*2\n",
    "        x = x - (1+n*alfa)/(n+1)* P.dot(g_n)\n",
    "        P = c1 * (P - c2 * np.outer(U,U))\n",
    "        #print('x', x)\n",
    "            \n",
    "        if f_obj(x,X,alpha,a,b,r) < f_best and x[2] >= 0:\n",
    "            f_best = f_obj(x,X,alpha,a,b,r)\n",
    "            x_opt = x\n",
    "            x_grad = grad_f(x,X,alpha,a,b,r)\n",
    "        print('obj', f_best, 'sol', x_opt, np.max(P))\n",
    "        \n",
    "        if np.max(P) <= 1e-4:\n",
    "            print('obj', f_best, 'sol', x_opt,'grad', x_grad,'P-norm', np.max(P))\n",
    "            return(x_opt, f_best, x_grad)\n",
    "    print('max iterations reached')\n",
    "\n",
    "    return x_opt, f_best"
   ]
  },
  {
   "cell_type": "code",
   "execution_count": 223,
   "id": "f0e1537b",
   "metadata": {},
   "outputs": [],
   "source": [
    "def ellipsoid_explog(x0, max_iter,r_e,para):\n",
    "    n = len(x0)\n",
    "    x = x0\n",
    "    P = np.identity(n)*r_e\n",
    "    a,b,alpha,r,X = para\n",
    "    f_best = np.inf\n",
    "    x_opt = x0\n",
    "    N = len(X)\n",
    "    for steps in range(max_iter):\n",
    "        if x[2] >= 0:\n",
    "            the1 = x[0]\n",
    "            the2 = x[1]\n",
    "            lbda = x[2]\n",
    "            f_obj = 0\n",
    "            g = np.zeros(3)\n",
    "            s1 = 0\n",
    "            s2 = 0\n",
    "            s3 = 0\n",
    "            for i in range(N):\n",
    "                arg = CVaR(the2-X[i],alpha)\n",
    "                f_obj = f_obj + lbda * f_explog((arg+the1)/lbda,a,b)\n",
    "                s1 = s1 + df_explog((arg+the1)/lbda,a,b)\n",
    "                s2 = s2 + df_explog((arg+the1)/lbda,a,b)* dCVaR(the2-X[i],alpha)\n",
    "                s3 = s3 + f_explog((arg+the1)/lbda,a,b) - df_explog((arg+the1)/lbda,a,b) * ((arg+the1)/lbda)\n",
    "            \n",
    "            f_obj = f_obj/N -the1-the2+lbda*r\n",
    "            g[0] = -1 + s1/N\n",
    "            g[1] = -1 + s2/N\n",
    "            g[2] = r + s3/N\n",
    "            n_g =np.sqrt((g.dot(P)).dot(g)) \n",
    "            g_n = g/n_g\n",
    "            if f_obj < f_best and x[2] >= 0:\n",
    "                f_best = f_obj\n",
    "                x_opt = x\n",
    "                x_grad = g\n",
    "            #print('obj', f_best, 'sol', x_opt, np.max(P))\n",
    "        else:\n",
    "            g = np.array([0,0,-1])\n",
    "            #print('constr_g', (g.dot(P)).dot(g))\n",
    "            n_g =np.sqrt((g.dot(P)).dot(g)) \n",
    "            g_n = g/n_g\n",
    "            \n",
    "        alfa = 0\n",
    "        U = g_n.dot(P)\n",
    "        c1 = (n**2/(n**2-1)) * (1-alfa**2)\n",
    "        c2 = (1+n*alfa)/((n+1)*(1+alfa))*2\n",
    "        x = x - (1+n*alfa)/(n+1)* P.dot(g_n)\n",
    "        P = c1 * (P - c2 * np.outer(U,U))\n",
    "        \n",
    "        \n",
    "        if np.max(P) <= 1e-5:\n",
    "            print('obj', f_best, 'sol', x_opt,'grad', x_grad,'P-norm', np.max(P))\n",
    "            return(x_opt, f_best, x_grad)\n",
    "    \n",
    "    print('max iterations reached')\n",
    "\n",
    "    return x_opt, f_best\n",
    "                \n",
    "    \n",
    "            \n",
    "    "
   ]
  },
  {
   "cell_type": "code",
   "execution_count": 276,
   "id": "280289c5",
   "metadata": {},
   "outputs": [],
   "source": [
    "np.random.seed(3)\n",
    "mu = np.log(1)\n",
    "sigma = 1\n",
    "alpha = 0.05\n",
    "demand = np.random.lognormal(mu,sigma,size= 10000)\n",
    "frac = alpha* (p-c)/(p-s)\n",
    "y_nom = y_opt(alpha,p,c,s,l, mu,sigma)\n"
   ]
  },
  {
   "cell_type": "code",
   "execution_count": 227,
   "id": "f4e32fde",
   "metadata": {},
   "outputs": [
    {
     "data": {
      "text/plain": [
       "4.200382320343616"
      ]
     },
     "execution_count": 227,
     "metadata": {},
     "output_type": "execute_result"
    }
   ],
   "source": [
    "y_nom"
   ]
  },
  {
   "cell_type": "code",
   "execution_count": 230,
   "id": "9877f210",
   "metadata": {},
   "outputs": [
    {
     "data": {
      "text/plain": [
       "array([0.65918052, 0.94528687, 0.11810324, ..., 0.9901253 , 0.80423598,\n",
       "       7.4239865 ])"
      ]
     },
     "execution_count": 230,
     "metadata": {},
     "output_type": "execute_result"
    }
   ],
   "source": [
    "demand"
   ]
  },
  {
   "cell_type": "code",
   "execution_count": null,
   "id": "b8738b25",
   "metadata": {},
   "outputs": [],
   "source": []
  },
  {
   "cell_type": "code",
   "execution_count": 367,
   "id": "282313b0",
   "metadata": {},
   "outputs": [],
   "source": [
    "a = 1/(2*(sigma*2)**2)\n",
    "b = 2\n",
    "alpha = 0.05\n",
    "r = 1.2\n",
    "x0 = np.array([-5,-12,1])\n"
   ]
  },
  {
   "cell_type": "code",
   "execution_count": 274,
   "id": "06d65b30",
   "metadata": {},
   "outputs": [],
   "source": [
    "def one_dim_search(x_a, x_b,a,b,alpha,r,demand,x0, max_iter):\n",
    "    y = np.arange(x_a,x_b,(x_b-x_a)/5)\n",
    "    y = -np.sort(-y)\n",
    "    f_min = np.inf\n",
    "    y_min = x_a\n",
    "    \n",
    "    for steps in range(max_iter):\n",
    "        for i in range(len(y)):\n",
    "            obj = np.zeros(len(y))\n",
    "            profit_vec = profit(y[i],demand)\n",
    "            para = [a,b,alpha,r,profit_vec]\n",
    "            obj[i] = ellipsoid_explog(x0, 400, 100000,para)[1]\n",
    "            if obj[i] < f_min:\n",
    "                f_min = obj[i]\n",
    "                y_min = y[i]\n",
    "            else:\n",
    "                if i == 0:\n",
    "                    return('choose better ub')\n",
    "                else:\n",
    "                    x\n",
    "            \n",
    "    \n",
    "    \n",
    "    "
   ]
  },
  {
   "cell_type": "code",
   "execution_count": 273,
   "id": "bb78d947",
   "metadata": {},
   "outputs": [
    {
     "data": {
      "text/plain": [
       "'ha'"
      ]
     },
     "execution_count": 273,
     "metadata": {},
     "output_type": "execute_result"
    }
   ],
   "source": []
  },
  {
   "cell_type": "code",
   "execution_count": 257,
   "id": "a6125004",
   "metadata": {},
   "outputs": [
    {
     "name": "stdout",
     "output_type": "stream",
     "text": [
      "obj 44.386114010344855 sol [ -0.37222286 -31.05456332  23.24492537] grad [-1.86671490e-06  6.49148110e-04 -4.06668819e-06] P-norm 6.671266150413884e-06\n"
     ]
    },
    {
     "data": {
      "text/plain": [
       "44.386114010344855"
      ]
     },
     "execution_count": 257,
     "metadata": {},
     "output_type": "execute_result"
    }
   ],
   "source": [
    "objective_scipy(12,*args)"
   ]
  },
  {
   "cell_type": "code",
   "execution_count": 369,
   "id": "095aff63",
   "metadata": {},
   "outputs": [
    {
     "name": "stdout",
     "output_type": "stream",
     "text": [
      "23.9\n",
      "obj 47.70832958456104 sol [-5.84122447e-03 -4.74408975e+01  1.18310990e-01] grad [-0.00092021  0.00025789  0.0010576 ] P-norm 7.105281688049797e-06\n",
      "24.037499999999998\n",
      "obj 47.857584116127484 sol [-2.12393068e-03 -4.77584734e+01  4.30854068e-02] grad [ 0.00010562  0.00029468 -0.00254696] P-norm 6.907204791154248e-06\n",
      "24.174999999999997\n",
      "obj 48.13258412940007 sol [-2.13511836e-03 -4.80334626e+01  4.30823536e-02] grad [-0.00013075  0.00056756 -0.00301433] P-norm 7.761890579867928e-06\n",
      "24.312499999999996\n",
      "obj 48.40758404817543 sol [-2.14903442e-03 -4.83084385e+01  4.31360772e-02] grad [-0.00042529 -0.0003679  -0.00024457] P-norm 8.063885119101582e-06\n",
      "24.449999999999996\n",
      "obj 48.68258434153521 sol [-2.11522629e-03 -4.85836228e+01  4.30179942e-02] grad [ 0.00016922 -0.00081047 -0.00296393] P-norm 9.846273011652251e-06\n",
      "24.587499999999995\n",
      "obj 48.9575840761387 sol [-2.08434687e-03 -4.88583224e+01  4.31866432e-02] grad [ 1.10219436e-03  6.03701480e-04 -5.89598360e-05] P-norm 7.134451430676594e-06\n",
      "24.724999999999994\n",
      "obj 49.23258419566186 sol [-2.05234646e-03 -4.91335184e+01  4.31375805e-02] grad [ 0.00163391 -0.00183278  0.00187684] P-norm 9.407936406842197e-06\n",
      "24.862499999999994\n",
      "obj 49.50758419535663 sol [-2.15043169e-03 -4.94082245e+01  4.31866466e-02] grad [-0.00026222  0.00239994 -0.00255762] P-norm 7.329762111960354e-06\n"
     ]
    }
   ],
   "source": [
    "y = np.arange(23.9,25,(25-23.9)/8)\n",
    "risk = np.zeros(len(y))\n",
    "prob = np.zeros(len(demand)) + 1/len(demand)\n",
    "#demand = np.random.lognormal(mu,sigma,size= 5000)\n",
    "for i in range(len(y)):\n",
    "    print(y[i])\n",
    "    profit_vec = profit(y[i], demand)\n",
    "    para = [a,b,alpha,r,profit_vec]\n",
    "    risk[i] = ellipsoid_explog(x0, 400, 100000,para)[1]\n",
    "    \n",
    "\n",
    "        "
   ]
  },
  {
   "cell_type": "code",
   "execution_count": null,
   "id": "722deccb",
   "metadata": {},
   "outputs": [],
   "source": [
    "30.6675"
   ]
  },
  {
   "cell_type": "code",
   "execution_count": 363,
   "id": "95a415c4",
   "metadata": {},
   "outputs": [],
   "source": [
    "##### optimal y_rob determined by hand\n",
    "radius = np.array([0.01,0.03,0.05,0.07,0.1,0.2,0.3,0.4,0.42,0.46,0.47,0.5,0.7,1])\n",
    "y_rob = np.array([5.38,6.724,7.69,8.36,9.9,14.4,15.5,16.3,16.38,22.71,23.06,23.5,23.8,23.9])"
   ]
  },
  {
   "cell_type": "code",
   "execution_count": 366,
   "id": "0472942b",
   "metadata": {},
   "outputs": [
    {
     "data": {
      "text/plain": [
       "14"
      ]
     },
     "execution_count": 366,
     "metadata": {},
     "output_type": "execute_result"
    }
   ],
   "source": [
    "len(radius)"
   ]
  },
  {
   "cell_type": "code",
   "execution_count": 364,
   "id": "05d90524",
   "metadata": {},
   "outputs": [],
   "source": [
    "np.savetxt('y_rob.txt', y_rob)\n",
    "np.savetxt('radius.txt', radius)"
   ]
  },
  {
   "cell_type": "code",
   "execution_count": 365,
   "id": "7f28568c",
   "metadata": {},
   "outputs": [
    {
     "data": {
      "image/png": "[encoded data removed]",
      "text/plain": [
       "<Figure size 640x480 with 1 Axes>"
      ]
     },
     "metadata": {},
     "output_type": "display_data"
    }
   ],
   "source": [
    "plt.plot(radius, y_rob)\n",
    "plt.xlabel('Radius')\n",
    "plt.ylabel('Optimal ordering')\n",
    "plt.savefig('Newsvendor_radius.eps', format = 'eps')"
   ]
  },
  {
   "cell_type": "code",
   "execution_count": 249,
   "id": "5f198065",
   "metadata": {},
   "outputs": [],
   "source": [
    "np.savetxt('newsvendor_risk.txt', risk)\n",
    "np.savetxt('newsvendor_y.txt', y)"
   ]
  },
  {
   "cell_type": "code",
   "execution_count": 283,
   "id": "806233de",
   "metadata": {},
   "outputs": [],
   "source": [
    "y2 = np.loadtxt('newsvendor_y.txt')\n",
    "risk2 = np.loadtxt('newsvendor_risk.txt')"
   ]
  },
  {
   "cell_type": "code",
   "execution_count": 284,
   "id": "1b790606",
   "metadata": {},
   "outputs": [
    {
     "data": {
      "text/plain": [
       "23.0"
      ]
     },
     "execution_count": 284,
     "metadata": {},
     "output_type": "execute_result"
    }
   ],
   "source": [
    "ind = np.argmin(risk2)\n",
    "y2[ind]"
   ]
  },
  {
   "cell_type": "code",
   "execution_count": 293,
   "id": "ff536fee",
   "metadata": {},
   "outputs": [
    {
     "data": {
      "text/plain": [
       "array([ 3.,  4.,  5.,  6.,  7.,  8.,  9., 10., 11., 12., 13., 14., 15.,\n",
       "       16., 17., 18., 19., 20., 21., 22., 23., 24., 25., 26., 27., 28.,\n",
       "       29.])"
      ]
     },
     "execution_count": 293,
     "metadata": {},
     "output_type": "execute_result"
    }
   ],
   "source": [
    "y2"
   ]
  },
  {
   "cell_type": "code",
   "execution_count": 248,
   "id": "d1feca3f",
   "metadata": {},
   "outputs": [
    {
     "data": {
      "image/png": "[encoded data removed]",
      "text/plain": [
       "<Figure size 640x480 with 1 Axes>"
      ]
     },
     "metadata": {},
     "output_type": "display_data"
    }
   ],
   "source": [
    "plt.plot(y,risk)\n",
    "plt.xlabel('Number of ordering')\n",
    "plt.ylabel('Robust $\\mathrm{CVaR}_{0.95}$ risk of profit loss')\n",
    "plt.savefig('Newvendor_Composite.eps', format = 'eps')"
   ]
  },
  {
   "cell_type": "code",
   "execution_count": 216,
   "id": "1c80c0bd",
   "metadata": {},
   "outputs": [
    {
     "data": {
      "text/plain": [
       "15"
      ]
     },
     "execution_count": 216,
     "metadata": {},
     "output_type": "execute_result"
    }
   ],
   "source": [
    "ind = np.argmin(risk)\n",
    "y[ind]"
   ]
  },
  {
   "cell_type": "code",
   "execution_count": 18,
   "id": "0f4fd5c9",
   "metadata": {},
   "outputs": [
    {
     "data": {
      "text/plain": [
       "10.136449106584525"
      ]
     },
     "execution_count": 18,
     "metadata": {},
     "output_type": "execute_result"
    }
   ],
   "source": [
    "np.percentile(demand,50)"
   ]
  },
  {
   "cell_type": "code",
   "execution_count": 243,
   "id": "46c3af6a",
   "metadata": {},
   "outputs": [],
   "source": [
    "np.random.seed(3)\n",
    "demand = np.random.lognormal(mu,sigma,size= 10000)\n",
    "profit_vec = profit(4, demand)\n",
    "para = [a,b,alpha,r,profit_vec]"
   ]
  },
  {
   "cell_type": "code",
   "execution_count": 232,
   "id": "6c80f302",
   "metadata": {},
   "outputs": [
    {
     "name": "stdout",
     "output_type": "stream",
     "text": [
      "obj 117.44296260597139 sol [ -5 -50  30] 112360.34652848319\n",
      "obj 117.44296260597139 sol [ -5 -50  30] 126295.56219746218\n",
      "obj 103.61886341223934 sol [ -5.42220067 -41.63605893  81.31991963] 141788.13754304152\n",
      "obj 103.61886341223934 sol [ -5.42220067 -41.63605893  81.31991963] 158098.0728421492\n",
      "obj 103.61886341223934 sol [ -5.42220067 -41.63605893  81.31991963] 177675.9596334967\n",
      "obj 103.61886341223934 sol [ -5.42220067 -41.63605893  81.31991963] 184009.8185662676\n",
      "obj 103.61886341223934 sol [ -5.42220067 -41.63605893  81.31991963] 138930.7756647572\n",
      "obj 103.30703956658786 sol [-36.20367554  -6.60682144  78.68901691] 78766.1510822671\n",
      "obj 100.32089841980735 sol [  1.47282406 -38.17509759  73.41944813] 75836.25236871284\n",
      "obj 100.32089841980735 sol [  1.47282406 -38.17509759  73.41944813] 80207.8145929118\n",
      "obj 100.32089841980735 sol [  1.47282406 -38.17509759  73.41944813] 74873.2669260657\n",
      "obj 98.54629433105359 sol [  3.61441499 -31.57274599  78.35822123] 82112.4903422171\n",
      "obj 98.54629433105359 sol [  3.61441499 -31.57274599  78.35822123] 81105.08364597335\n",
      "obj 98.54629433105359 sol [  3.61441499 -31.57274599  78.35822123] 65823.90966458876\n",
      "obj 98.54629433105359 sol [  3.61441499 -31.57274599  78.35822123] 41551.46335166718\n",
      "obj 95.80427620946256 sol [  3.47870659 -17.87447704  72.34443039] 36550.68846270181\n",
      "obj 95.80427620946256 sol [  3.47870659 -17.87447704  72.34443039] 32225.346735000123\n",
      "obj 95.46842386539419 sol [ -7.20467916 -19.22431903  75.2055766 ] 28904.65201793128\n",
      "obj 95.46842386539419 sol [ -7.20467916 -19.22431903  75.2055766 ] 23319.47273423608\n",
      "obj 95.46842386539419 sol [ -7.20467916 -19.22431903  75.2055766 ] 23429.38455475407\n",
      "obj 95.46842386539419 sol [ -7.20467916 -19.22431903  75.2055766 ] 22549.667148515637\n",
      "obj 95.46842386539419 sol [ -7.20467916 -19.22431903  75.2055766 ] 13113.00530451504\n",
      "obj 95.41451286839558 sol [ -6.65234944 -15.82369447  79.04281355] 11871.78913745188\n",
      "obj 95.41451286839558 sol [ -6.65234944 -15.82369447  79.04281355] 8730.305870829208\n",
      "obj 95.41451286839558 sol [ -6.65234944 -15.82369447  79.04281355] 9691.887346730562\n",
      "obj 95.41451286839558 sol [ -6.65234944 -15.82369447  79.04281355] 9647.503422487829\n",
      "obj 95.41451286839558 sol [ -6.65234944 -15.82369447  79.04281355] 10207.391299091356\n",
      "obj 95.41451286839558 sol [ -6.65234944 -15.82369447  79.04281355] 11479.668506822396\n",
      "obj 95.38241270602627 sol [ -5.0461375  -16.27582304  80.10135321] 12791.913804533358\n",
      "obj 95.38241270602627 sol [ -5.0461375  -16.27582304  80.10135321] 7892.539805458524\n",
      "obj 95.38241270602627 sol [ -5.0461375  -16.27582304  80.10135321] 4746.0666631234\n",
      "obj 95.38241270602627 sol [ -5.0461375  -16.27582304  80.10135321] 5318.54218956086\n",
      "obj 95.38241270602627 sol [ -5.0461375  -16.27582304  80.10135321] 5132.514199939293\n",
      "obj 95.38241270602627 sol [ -5.0461375  -16.27582304  80.10135321] 4342.693464105583\n",
      "obj 95.38241270602627 sol [ -5.0461375  -16.27582304  80.10135321] 3558.163971515696\n",
      "obj 95.38241270602627 sol [ -5.0461375  -16.27582304  80.10135321] 3560.655297371687\n",
      "obj 95.38241270602627 sol [ -5.0461375  -16.27582304  80.10135321] 3102.5761154731076\n",
      "obj 95.38241270602627 sol [ -5.0461375  -16.27582304  80.10135321] 1981.5604722889025\n",
      "obj 95.38241270602627 sol [ -5.0461375  -16.27582304  80.10135321] 2153.6986860982524\n",
      "obj 95.38241270602627 sol [ -5.0461375  -16.27582304  80.10135321] 2288.5821900450833\n",
      "obj 95.33178872877312 sol [ -4.0661111  -17.47869019  76.47073065] 2448.636587941417\n",
      "obj 95.33178872877312 sol [ -4.0661111  -17.47869019  76.47073065] 1873.388887279514\n",
      "obj 95.33178872877312 sol [ -4.0661111  -17.47869019  76.47073065] 1461.9037608774538\n",
      "obj 95.33178872877312 sol [ -4.0661111  -17.47869019  76.47073065] 1412.6521592175257\n",
      "obj 95.33178872877312 sol [ -4.0661111  -17.47869019  76.47073065] 1166.2173670385127\n",
      "obj 95.33178872877312 sol [ -4.0661111  -17.47869019  76.47073065] 794.0281099179316\n",
      "obj 95.33178872877312 sol [ -4.0661111  -17.47869019  76.47073065] 690.8180032156238\n",
      "obj 95.33178872877312 sol [ -4.0661111  -17.47869019  76.47073065] 605.6246833824323\n",
      "obj 95.33178872877312 sol [ -4.0661111  -17.47869019  76.47073065] 591.811341235505\n",
      "obj 95.33178872877312 sol [ -4.0661111  -17.47869019  76.47073065] 495.4858935338716\n",
      "obj 95.33178872877312 sol [ -4.0661111  -17.47869019  76.47073065] 480.8961114252834\n",
      "obj 95.33178872877312 sol [ -4.0661111  -17.47869019  76.47073065] 510.80430342546396\n",
      "obj 95.33178872877312 sol [ -4.0661111  -17.47869019  76.47073065] 572.2723970101242\n",
      "obj 95.33178872877312 sol [ -4.0661111  -17.47869019  76.47073065] 567.5341567956967\n",
      "obj 95.33178872877312 sol [ -4.0661111  -17.47869019  76.47073065] 532.1126100938895\n",
      "obj 95.33178872877312 sol [ -4.0661111  -17.47869019  76.47073065] 598.4385062109683\n",
      "obj 95.33178872877312 sol [ -4.0661111  -17.47869019  76.47073065] 539.0471131464541\n",
      "obj 95.33178872877312 sol [ -4.0661111  -17.47869019  76.47073065] 309.4705432510554\n",
      "obj 95.33178872877312 sol [ -4.0661111  -17.47869019  76.47073065] 185.06667086228646\n",
      "obj 95.33178872877312 sol [ -4.0661111  -17.47869019  76.47073065] 198.89287180676394\n",
      "obj 95.33178872877312 sol [ -4.0661111  -17.47869019  76.47073065] 217.68455169992316\n",
      "obj 95.33178872877312 sol [ -4.0661111  -17.47869019  76.47073065] 236.12233465668587\n",
      "obj 95.33178872877312 sol [ -4.0661111  -17.47869019  76.47073065] 254.28618037065996\n",
      "obj 95.33178872877312 sol [ -4.0661111  -17.47869019  76.47073065] 206.43262903454848\n",
      "obj 95.33178872877312 sol [ -4.0661111  -17.47869019  76.47073065] 120.87878943352055\n",
      "obj 95.33178872877312 sol [ -4.0661111  -17.47869019  76.47073065] 94.74291615964749\n",
      "obj 95.32990899667132 sol [ -3.00058552 -17.13747318  77.29146004] 81.77801485601752\n",
      "obj 95.32990899667132 sol [ -3.00058552 -17.13747318  77.29146004] 84.53243265611998\n",
      "obj 95.32782415511656 sol [ -3.54915566 -17.19217924  77.57842067] 88.23453825655346\n",
      "obj 95.32782415511656 sol [ -3.54915566 -17.19217924  77.57842067] 81.18166219136384\n",
      "obj 95.32782415511656 sol [ -3.54915566 -17.19217924  77.57842067] 75.69350280366423\n",
      "obj 95.32782415511656 sol [ -3.54915566 -17.19217924  77.57842067] 54.0297362044152\n",
      "obj 95.3272650936618 sol [ -3.6478929  -17.35693135  77.0030528 ] 46.491524262629405\n",
      "obj 95.3272650936618 sol [ -3.6478929  -17.35693135  77.0030528 ] 41.72545813844688\n",
      "obj 95.32696821753078 sol [ -3.35643574 -17.44141298  77.1992541 ] 43.78316663759891\n",
      "obj 95.32696821753078 sol [ -3.35643574 -17.44141298  77.1992541 ] 40.67467421324778\n",
      "obj 95.32696821753078 sol [ -3.35643574 -17.44141298  77.1992541 ] 31.59311393604592\n",
      "obj 95.32696821753078 sol [ -3.35643574 -17.44141298  77.1992541 ] 21.192553524073066\n",
      "obj 95.32696821753078 sol [ -3.35643574 -17.44141298  77.1992541 ] 21.464074218228557\n",
      "obj 95.32696821753078 sol [ -3.35643574 -17.44141298  77.1992541 ] 23.549023430133364\n",
      "obj 95.32696821753078 sol [ -3.35643574 -17.44141298  77.1992541 ] 18.849218965033934\n",
      "obj 95.32696821753078 sol [ -3.35643574 -17.44141298  77.1992541 ] 15.252675364718087\n",
      "obj 95.32696821753078 sol [ -3.35643574 -17.44141298  77.1992541 ] 15.523901736854702\n",
      "obj 95.32696821753078 sol [ -3.35643574 -17.44141298  77.1992541 ] 16.25720362480329\n",
      "obj 95.32696821753078 sol [ -3.35643574 -17.44141298  77.1992541 ] 17.99384251578655\n",
      "obj 95.32696821753078 sol [ -3.35643574 -17.44141298  77.1992541 ] 20.202655822102653\n",
      "obj 95.32696821753078 sol [ -3.35643574 -17.44141298  77.1992541 ] 21.265294860852784\n",
      "obj 95.32696821753078 sol [ -3.35643574 -17.44141298  77.1992541 ] 14.220901530209797\n",
      "obj 95.32696821753078 sol [ -3.35643574 -17.44141298  77.1992541 ] 8.572347316275904\n",
      "obj 95.32696821753078 sol [ -3.35643574 -17.44141298  77.1992541 ] 6.687399659667974\n",
      "obj 95.32696821753078 sol [ -3.35643574 -17.44141298  77.1992541 ] 5.549373133252342\n",
      "obj 95.32696821753078 sol [ -3.35643574 -17.44141298  77.1992541 ] 5.9807788591432125\n",
      "obj 95.32696821753078 sol [ -3.35643574 -17.44141298  77.1992541 ] 6.186680928545913\n",
      "obj 95.32696821753078 sol [ -3.35643574 -17.44141298  77.1992541 ] 5.338468973924011\n",
      "obj 95.32696821753078 sol [ -3.35643574 -17.44141298  77.1992541 ] 3.888815484140717\n",
      "obj 95.32696821753078 sol [ -3.35643574 -17.44141298  77.1992541 ] 2.4938397728431734\n",
      "obj 95.3269505038154 sol [ -3.54616674 -17.50919347  77.12306134] 2.3887327097927775\n",
      "obj 95.3269505038154 sol [ -3.54616674 -17.50919347  77.12306134] 2.665823196483005\n"
     ]
    },
    {
     "name": "stdout",
     "output_type": "stream",
     "text": [
      "obj 95.32691988561533 sol [ -3.58129395 -17.38286876  77.2934187 ] 2.866234927064282\n",
      "obj 95.32691988561533 sol [ -3.58129395 -17.38286876  77.2934187 ] 2.351379162092358\n",
      "obj 95.32685438203563 sol [ -3.56238792 -17.35059836  77.20308419] 2.2974559065871496\n",
      "obj 95.32685438203563 sol [ -3.56238792 -17.35059836  77.20308419] 1.8710978028445855\n",
      "obj 95.32685438203563 sol [ -3.56238792 -17.35059836  77.20308419] 1.5975677441463914\n",
      "obj 95.32685438203563 sol [ -3.56238792 -17.35059836  77.20308419] 1.1131462016603222\n",
      "obj 95.32685305704787 sol [ -3.57999592 -17.38595598  77.15877928] 0.9775374294696154\n",
      "obj 95.32685305704787 sol [ -3.57999592 -17.38595598  77.15877928] 0.9943449810969961\n",
      "obj 95.32682659522335 sol [ -3.49798102 -17.36871539  77.17261028] 1.1173338751011115\n",
      "obj 95.32682659522335 sol [ -3.49798102 -17.36871539  77.17261028] 1.1568704028916657\n",
      "obj 95.32682659522335 sol [ -3.49798102 -17.36871539  77.17261028] 1.0675628245621585\n",
      "obj 95.32682659522335 sol [ -3.49798102 -17.36871539  77.17261028] 0.7258059727576591\n",
      "obj 95.32682263705493 sol [ -3.51000097 -17.3919771   77.14091063] 0.5570903177548949\n",
      "obj 95.32682263705493 sol [ -3.51000097 -17.3919771   77.14091063] 0.6217277653025569\n",
      "obj 95.32681099867014 sol [ -3.48536669 -17.39158331  77.18251528] 0.6994334937369145\n",
      "obj 95.32681099867014 sol [ -3.48536669 -17.39158331  77.18251528] 0.4736805032757482\n",
      "obj 95.32681099867014 sol [ -3.48536669 -17.39158331  77.18251528] 0.4199217490758931\n",
      "obj 95.32681099867014 sol [ -3.48536669 -17.39158331  77.18251528] 0.3799465499381619\n",
      "obj 95.32681099867014 sol [ -3.48536669 -17.39158331  77.18251528] 0.3659884284923036\n",
      "obj 95.32681099867014 sol [ -3.48536669 -17.39158331  77.18251528] 0.2707275491993228\n",
      "obj 95.32681099867014 sol [ -3.48536669 -17.39158331  77.18251528] 0.2906853381544745\n",
      "obj 95.32681099867014 sol [ -3.48536669 -17.39158331  77.18251528] 0.2884273150998699\n",
      "obj 95.32681099867014 sol [ -3.48536669 -17.39158331  77.18251528] 0.23135072147659827\n",
      "obj 95.32681099867014 sol [ -3.48536669 -17.39158331  77.18251528] 0.17331010234817543\n",
      "obj 95.32681046042853 sol [ -3.50018177 -17.40314439  77.19429681] 0.1417052453279006\n",
      "obj 95.32681046042853 sol [ -3.50018177 -17.40314439  77.19429681] 0.13496829520756184\n",
      "obj 95.32681046042853 sol [ -3.50018177 -17.40314439  77.19429681] 0.14886910479065532\n",
      "obj 95.32681046042853 sol [ -3.50018177 -17.40314439  77.19429681] 0.15051801392718112\n",
      "obj 95.32681046042853 sol [ -3.50018177 -17.40314439  77.19429681] 0.10329648307600522\n",
      "obj 95.32681046042853 sol [ -3.50018177 -17.40314439  77.19429681] 0.07929428516549893\n",
      "obj 95.32681046042853 sol [ -3.50018177 -17.40314439  77.19429681] 0.07322914651951958\n",
      "obj 95.32680894463809 sol [ -3.49873627 -17.3923574   77.18458493] 0.07008764163233734\n",
      "obj 95.32680894463809 sol [ -3.49873627 -17.3923574   77.18458493] 0.06631988462262527\n",
      "obj 95.32680894463809 sol [ -3.49873627 -17.3923574   77.18458493] 0.06476425471628264\n",
      "obj 95.32680894463809 sol [ -3.49873627 -17.3923574   77.18458493] 0.07003024413512415\n",
      "obj 95.32680784607984 sol [ -3.50275409 -17.40216847  77.17555035] 0.07727886753298405\n",
      "obj 95.32680784607984 sol [ -3.50275409 -17.40216847  77.17555035] 0.07100687377742915\n",
      "obj 95.32680784607984 sol [ -3.50275409 -17.40216847  77.17555035] 0.04963662199707925\n",
      "obj 95.32680784607984 sol [ -3.50275409 -17.40216847  77.17555035] 0.04153268058966214\n",
      "obj 95.32680784607984 sol [ -3.50275409 -17.40216847  77.17555035] 0.029988289101442113\n",
      "obj 95.32680784607984 sol [ -3.50275409 -17.40216847  77.17555035] 0.02512580492241981\n",
      "obj 95.32680784607984 sol [ -3.50275409 -17.40216847  77.17555035] 0.023832739730982634\n",
      "obj 95.32680784607984 sol [ -3.50275409 -17.40216847  77.17555035] 0.024808448848075947\n",
      "obj 95.32680784607984 sol [ -3.50275409 -17.40216847  77.17555035] 0.025375601682058112\n",
      "obj 95.32680784607984 sol [ -3.50275409 -17.40216847  77.17555035] 0.022774658644886807\n",
      "obj 95.32680784607984 sol [ -3.50275409 -17.40216847  77.17555035] 0.014686381531530084\n",
      "obj 95.32680784607984 sol [ -3.50275409 -17.40216847  77.17555035] 0.011961081147197903\n",
      "obj 95.32680784607984 sol [ -3.50275409 -17.40216847  77.17555035] 0.013325578718507121\n",
      "obj 95.32680784607984 sol [ -3.50275409 -17.40216847  77.17555035] 0.014697867870415864\n",
      "obj 95.32680784607984 sol [ -3.50275409 -17.40216847  77.17555035] 0.009354916263294748\n",
      "obj 95.32680784607984 sol [ -3.50275409 -17.40216847  77.17555035] 0.008817623839910811\n",
      "obj 95.32680784607984 sol [ -3.50275409 -17.40216847  77.17555035] 0.006937218335467743\n",
      "obj 95.32680784607984 sol [ -3.50275409 -17.40216847  77.17555035] 0.0063406612377092785\n",
      "obj 95.32680784607984 sol [ -3.50275409 -17.40216847  77.17555035] 0.005446698698797551\n",
      "obj 95.32680784607984 sol [ -3.50275409 -17.40216847  77.17555035] 0.00441386506238679\n",
      "obj 95.32680784607984 sol [ -3.50275409 -17.40216847  77.17555035] 0.0036059202631559574\n",
      "obj 95.32680784607984 sol [ -3.50275409 -17.40216847  77.17555035] 0.0036968832599401976\n",
      "obj 95.32680784607984 sol [ -3.50275409 -17.40216847  77.17555035] 0.0030582208648615174\n",
      "obj 95.32680784607984 sol [ -3.50275409 -17.40216847  77.17555035] 0.00331387650635271\n",
      "obj 95.32680784607984 sol [ -3.50275409 -17.40216847  77.17555035] 0.002649928403450733\n",
      "obj 95.32680784607984 sol [ -3.50275409 -17.40216847  77.17555035] 0.0025511172988426315\n",
      "obj 95.32680784607984 sol [ -3.50275409 -17.40216847  77.17555035] 0.002356340620496585\n",
      "obj 95.32680784607984 sol [ -3.50275409 -17.40216847  77.17555035] 0.002213594598244036\n",
      "obj 95.32680784607984 sol [ -3.50275409 -17.40216847  77.17555035] 0.0019808852486127076\n",
      "obj 95.32680784607984 sol [ -3.50275409 -17.40216847  77.17555035] 0.001646097178145788\n",
      "obj 95.32680784607984 sol [ -3.50275409 -17.40216847  77.17555035] 0.0014925311187438189\n",
      "obj 95.32680784607984 sol [ -3.50275409 -17.40216847  77.17555035] 0.0015496097161240962\n",
      "obj 95.32680784607984 sol [ -3.50275409 -17.40216847  77.17555035] 0.001116666629726633\n",
      "obj 95.32680784475833 sol [ -3.50168758 -17.40303947  77.17501905] 0.0012532192258539491\n",
      "obj 95.32680784475833 sol [ -3.50168758 -17.40303947  77.17501905] 0.0012063001924303726\n",
      "obj 95.32680784475833 sol [ -3.50168758 -17.40303947  77.17501905] 0.0012919259420608505\n",
      "obj 95.32680784475833 sol [ -3.50168758 -17.40303947  77.17501905] 0.0009075588988918361\n",
      "obj 95.32680784475833 sol [ -3.50168758 -17.40303947  77.17501905] 0.0007769341444984304\n",
      "obj 95.32680784475833 sol [ -3.50168758 -17.40303947  77.17501905] 0.0005903712165831658\n",
      "obj 95.32680784475833 sol [ -3.50168758 -17.40303947  77.17501905] 0.0005038258283482851\n",
      "obj 95.32680784475833 sol [ -3.50168758 -17.40303947  77.17501905] 0.0003817188521081406\n",
      "obj 95.32680784475833 sol [ -3.50168758 -17.40303947  77.17501905] 0.0003906484903834409\n",
      "obj 95.32680784475833 sol [ -3.50168758 -17.40303947  77.17501905] 0.000391757565574067\n",
      "obj 95.32680784238686 sol [ -3.50226548 -17.40269642  77.17546988] 0.00043465121203057337\n",
      "obj 95.32680784238686 sol [ -3.50226548 -17.40269642  77.17546988] 0.00044014938391109484\n",
      "obj 95.32680784238686 sol [ -3.50226548 -17.40269642  77.17546988] 0.0003486079637219194\n",
      "obj 95.32680784238686 sol [ -3.50226548 -17.40269642  77.17546988] 0.00031096768287528637\n",
      "obj 95.32680784238686 sol [ -3.50226548 -17.40269642  77.17546988] 0.0003171593910831618\n",
      "obj 95.32680784238686 sol [ -3.50226548 -17.40269642  77.17546988] 0.0003566439590257228\n",
      "obj 95.32680784238686 sol [ -3.50226548 -17.40269642  77.17546988] 0.00024370529532206795\n",
      "obj 95.32680784209282 sol [ -3.50161861 -17.40243836  77.1752904 ] 0.0001560990321926574\n",
      "obj 95.32680784209282 sol [ -3.50161861 -17.40243836  77.1752904 ] 0.00013390134293541527\n",
      "obj 95.32680784149936 sol [ -3.50210905 -17.40215635  77.17602576] 0.0001325575178567926\n",
      "obj 95.32680784149936 sol [ -3.50210905 -17.40215635  77.17602576] 0.00011013617921945884\n",
      "obj 95.32680784149936 sol [ -3.50210905 -17.40215635  77.17602576] 0.00011736958116852061\n",
      "obj 95.32680784149936 sol [ -3.50210905 -17.40215635  77.17602576] 9.409122580317141e-05\n",
      "obj 95.32680784149936 sol [ -3.50210905 -17.40215635  77.17602576] grad [-2.10555665e-06  3.07699213e-06  1.77603061e-06] P-norm 9.409122580317141e-05\n",
      "42.95678973197937\n"
     ]
    }
   ],
   "source": [
    "t_b = time.time()\n",
    "ellipsoid_constr_method(f_lexp, f_constr, grad_flexp, grad_f_constr, x0, 400, 100000, para)\n",
    "t_e = time.time()\n",
    "print(t_e-t_b)"
   ]
  },
  {
   "cell_type": "code",
   "execution_count": 244,
   "id": "cae9c3b6",
   "metadata": {},
   "outputs": [
    {
     "name": "stdout",
     "output_type": "stream",
     "text": [
      "obj 86.05671749691216 sol [ -3.15509709 -15.75005369  69.53374884] grad [7.99608534e-07 1.28597227e-06 3.87425337e-07] P-norm 9.287722510754881e-06\n",
      "(array([ -3.15509709, -15.75005369,  69.53374884]), 86.05671749691216, array([7.99608534e-07, 1.28597227e-06, 3.87425337e-07]))\n",
      "29.071765422821045\n"
     ]
    }
   ],
   "source": [
    "t_b = time.time()\n",
    "print(ellipsoid_explog(x0, 400, 100000,para))\n",
    "t_e = time.time()\n",
    "print(t_e-t_b)"
   ]
  },
  {
   "cell_type": "code",
   "execution_count": null,
   "id": "9bf36c48",
   "metadata": {},
   "outputs": [],
   "source": [
    "61"
   ]
  }
 ],
 "metadata": {
  "kernelspec": {
   "display_name": "Python 3 (ipykernel)",
   "language": "python",
   "name": "python3"
  },
  "language_info": {
   "codemirror_mode": {
    "name": "ipython",
    "version": 3
   },
   "file_extension": ".py",
   "mimetype": "text/x-python",
   "name": "python",
   "nbconvert_exporter": "python",
   "pygments_lexer": "ipython3",
   "version": "3.11.9"
  }
 },
 "nbformat": 4,
 "nbformat_minor": 5
}
